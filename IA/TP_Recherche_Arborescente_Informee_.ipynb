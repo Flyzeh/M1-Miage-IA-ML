{
  "cells": [
    {
      "cell_type": "markdown",
      "id": "9fa46b3a-2748-44b5-91d3-bb4c26bdf2f0",
      "metadata": {
        "id": "9fa46b3a-2748-44b5-91d3-bb4c26bdf2f0"
      },
      "source": [
        "# TP Intelligence Artificielle - Recherche Arborescente Informée"
      ]
    },
    {
      "cell_type": "markdown",
      "id": "890fa479-1023-487c-a76c-ff6d76db2965",
      "metadata": {
        "id": "890fa479-1023-487c-a76c-ff6d76db2965"
      },
      "source": [
        "# **Partie 0 : Visualisation d'états, Classe Taquin et Classe Node**\n",
        "\n",
        "Nous récupérons les classes du TP précédent ainsi que la fonction visualise_state."
      ]
    },
    {
      "cell_type": "code",
      "execution_count": null,
      "id": "13ff8544-2fb9-4e23-b67f-e4d392d09505",
      "metadata": {
        "id": "13ff8544-2fb9-4e23-b67f-e4d392d09505"
      },
      "outputs": [],
      "source": [
        "from IPython.display import display, HTML\n",
        "\n",
        "def visualize_state(state):\n",
        "    \"\"\"Visualizes the given state of the Taquin using HTML.\"\"\"\n",
        "    html = \"<table>\"\n",
        "    for row in state:\n",
        "        html += \"<tr>\"\n",
        "        for tile in row:\n",
        "            if tile == 0:\n",
        "                html += \"<td style='background-color: lightgray; width: 30px; height: 30px; text-align: center; font-size: 20px;'> </td>\"  # Blank tile\n",
        "            else:\n",
        "                html += f\"<td style='background-color: lightblue; width: 30px; height: 30px; text-align: center; font-size: 20px;'>{tile}</td>\"\n",
        "        html += \"</tr>\"\n",
        "    html += \"</table>\"\n",
        "    display(HTML(html))\n",
        "\n",
        "class Taquin:\n",
        "    \"\"\"\n",
        "    A class representing the Taquin problem.\n",
        "    \"\"\"\n",
        "\n",
        "    def __init__(self, initial_state, goal_state, size):\n",
        "        self.initial_state = initial_state\n",
        "        self.goal_state = goal_state\n",
        "        self.size = size\n",
        "\n",
        "    def actions(self, state):\n",
        "        \"\"\"Returns the possible actions (moves) from the given state.\"\"\"\n",
        "        # Find the position of the blank tile (0)\n",
        "        row, col = next(\n",
        "            (r, c)\n",
        "            for r, row in enumerate(state)\n",
        "            for c, val in enumerate(row)\n",
        "            if val == 0\n",
        "        )\n",
        "\n",
        "        # Define possible moves (up, down, left, right)\n",
        "        possible_actions = []\n",
        "        if row > 0:\n",
        "            possible_actions.append(\"up\")\n",
        "        if row < self.size-1:\n",
        "            possible_actions.append(\"down\")\n",
        "        if col > 0:\n",
        "            possible_actions.append(\"left\")\n",
        "        if col < self.size-1:\n",
        "            possible_actions.append(\"right\")\n",
        "\n",
        "        return possible_actions\n",
        "\n",
        "    def result(self, state, action):\n",
        "        \"\"\"Returns the state that results from applying the given action.\"\"\"\n",
        "        # Create a copy of the state to avoid modifying the original\n",
        "        new_state = [list(row) for row in state]\n",
        "\n",
        "        # Find the position of the blank tile (0)\n",
        "        row, col = next(\n",
        "            (r, c)\n",
        "            for r, row in enumerate(state)\n",
        "            for c, val in enumerate(row)\n",
        "            if val == 0\n",
        "        )\n",
        "\n",
        "        # Apply the action to move the blank tile\n",
        "        if action == \"up\":\n",
        "            new_state[row][col], new_state[row - 1][col] = (\n",
        "                new_state[row - 1][col],\n",
        "                new_state[row][col],\n",
        "            )\n",
        "        elif action == \"down\":\n",
        "            new_state[row][col], new_state[row + 1][col] = (\n",
        "                new_state[row + 1][col],\n",
        "                new_state[row][col],\n",
        "            )\n",
        "        elif action == \"left\":\n",
        "            new_state[row][col], new_state[row][col - 1] = (\n",
        "                new_state[row][col - 1],\n",
        "                new_state[row][col],\n",
        "            )\n",
        "        elif action == \"right\":\n",
        "            new_state[row][col], new_state[row][col + 1] = (\n",
        "                new_state[row][col + 1],\n",
        "                new_state[row][col],\n",
        "            )\n",
        "\n",
        "        return new_state\n",
        "\n",
        "    def is_goal(self, state):\n",
        "        return state == self.goal_state  # Directly compare with goal_state\n",
        "\n",
        "    def cost(self, state, action):\n",
        "        return 1  # Default cost is 1\n",
        "\n",
        "class Node:\n",
        "    \"\"\"\n",
        "    A node in a search tree.\n",
        "    __init__: Initializes a node with its state, parent, action, path cost, and depth.\n",
        "    __repr__: Provides a string representation of the node.\n",
        "    __lt__: Defines a comparison operator for nodes based on their states.\n",
        "    expand: Generates child nodes by applying all possible actions.\n",
        "    child_node: Creates a single child node for a given action.\n",
        "    solution: Returns the sequence of actions that led to this node.\n",
        "    path: Returns the path from the root to this node as a list of nodes.\n",
        "    \"\"\"\n",
        "\n",
        "    def __init__(self, state, parent=None, action=None, path_cost = 0):\n",
        "        self.state = state\n",
        "        self.parent = parent\n",
        "        self.action = action\n",
        "        self.path_cost = path_cost\n",
        "        self.depth = 0 if parent is None else parent.depth + 1\n",
        "\n",
        "    # def __repr__(self):\n",
        "    #     return \"<Node {}>\".format(self.state)\n",
        "\n",
        "    # def __lt__(self, other):\n",
        "    #     return self.state < other.state\n",
        "\n",
        "    def expand(self, problem):\n",
        "        \"\"\"List the nodes reachable in one step from this node.\"\"\"\n",
        "        return [\n",
        "            self.child_node(problem, action)\n",
        "            for action in problem.actions(self.state)\n",
        "        ]\n",
        "\n",
        "    def child_node(self, problem, action):\n",
        "        \"\"\"Create a child node by applying the given action.\"\"\"\n",
        "        next_state = problem.result(self.state, action)\n",
        "        next_node = Node(\n",
        "            next_state,\n",
        "            parent=self,\n",
        "            action=action,\n",
        "            path_cost = self.path_cost + problem.cost(self.state, action),\n",
        "        )\n",
        "        return next_node\n",
        "\n",
        "    def solution(self):\n",
        "        \"\"\"Return the sequence of actions to go from the root to this node.\"\"\"\n",
        "        return [node.action for node in self.path()[1:]]\n",
        "\n",
        "    def path(self):\n",
        "        \"\"\"Return a list of nodes forming the path from the root to this node.\"\"\"\n",
        "        node, path_back = self, []\n",
        "        while node:\n",
        "            path_back.append(node)\n",
        "            node = node.parent\n",
        "        return list(reversed(path_back))"
      ]
    },
    {
      "cell_type": "markdown",
      "id": "94781469-acae-4f4e-ab69-f22a85d932cb",
      "metadata": {
        "id": "94781469-acae-4f4e-ab69-f22a85d932cb"
      },
      "source": [
        "# **Partie 1 : Heuristiques pour le jeu de Taquin**"
      ]
    },
    {
      "cell_type": "markdown",
      "id": "49e74b6f-47fc-4bfb-b4d6-443014b7d202",
      "metadata": {
        "id": "49e74b6f-47fc-4bfb-b4d6-443014b7d202"
      },
      "source": [
        "## **1.1 H$_1$ : Nombre de tuiles mal placées**"
      ]
    },
    {
      "cell_type": "markdown",
      "id": "ec213ce5-9739-49e3-a68d-72a1c098c7aa",
      "metadata": {
        "id": "ec213ce5-9739-49e3-a68d-72a1c098c7aa"
      },
      "source": [
        "### **Exercice 1**\n",
        "\n",
        "Écrivez une fonction qui calcule le nombre de tuiles mal placées dans un état du jeu de Taquin"
      ]
    },
    {
      "cell_type": "code",
      "source": [
        "def h1(state, goal_state):\n",
        "\n",
        "  result = 0\n",
        "\n",
        "  for i in range(len(state)):\n",
        "    for j in range(len(state[i])):\n",
        "      if state[i][j] != goal_state[i][j] and state[i][j] != 0:\n",
        "        result += 1\n",
        "\n",
        "  return result"
      ],
      "metadata": {
        "id": "wigdHdTcV0zt"
      },
      "id": "wigdHdTcV0zt",
      "execution_count": null,
      "outputs": []
    },
    {
      "cell_type": "markdown",
      "id": "205ba5cd-8e9f-4939-8fd3-69ffa3ff3491",
      "metadata": {
        "id": "205ba5cd-8e9f-4939-8fd3-69ffa3ff3491"
      },
      "source": [
        "### **Exercice 2**\n",
        "\n",
        "Calculez le nombre de tuiles mal placées pour les états suivants :\n",
        "1. [[1, 2, 3], [4, 5, 0], [6, 7, 8]]\n",
        "2. [[1, 2, 3], [0, 5, 6], [4, 7, 8]]    \n",
        "3. [[1, 0, 3], [4, 2, 5], [7, 8, 6]]\n",
        "4. [[1, 0, 3], [4, 5, 2], [7, 6, 8]]\n",
        "5. [[1, 0, 3], [4, 2, 5], [6, 7, 8]]\n",
        "6. [[1, 2, 3], [4, 0, 6], [7, 5, 8]]\n",
        "7. [[1, 2, 3], [0, 4, 6], [7, 5, 8]]\n",
        "8. [[1, 2, 3], [4, 6, 0], [7, 5, 8]]\n",
        "9. [[1, 3, 6], [4, 2, 5], [7, 0, 8]]  \n",
        "10. [[1, 3, 6], [4, 2, 0], [7, 5, 8]]  \n",
        "11. [[1, 3, 6], [4, 0, 2], [7, 5, 8]]  \n",
        "12. [[3, 1, 2], [4, 6, 5], [7, 0, 8]]  \n",
        "13. [[8, 1, 2], [0, 4, 3], [7, 6, 5]]\n",
        "14. [[1, 4, 2], [7, 0, 6], [5, 3, 8]]\n",
        "15. [[2, 8, 3], [1, 6, 4], [7, 0, 5]]"
      ]
    },
    {
      "cell_type": "code",
      "source": [
        "initial_states = [[[1, 2, 3], [4, 5, 0], [6, 7, 8]],\n",
        "[[1, 2, 3], [0, 5, 6], [4, 7, 8]],\n",
        "[[1, 0, 3], [4, 2, 5], [7, 8, 6]],\n",
        "[[1, 0, 3], [4, 5, 2], [7, 6, 8]],\n",
        "[[1, 0, 3], [4, 2, 5], [6, 7, 8]],\n",
        "[[1, 2, 3], [4, 0, 6], [7, 5, 8]],\n",
        "[[1, 2, 3], [0, 4, 6], [7, 5, 8]],\n",
        "[[1, 2, 3], [4, 6, 0], [7, 5, 8]],\n",
        "[[1, 3, 6], [4, 2, 5], [7, 0, 8]],\n",
        "[[1, 3, 6], [4, 2, 0], [7, 5, 8]],\n",
        "[[1, 3, 6], [4, 0, 2], [7, 5, 8]],\n",
        "[[3, 1, 2], [4, 6, 5], [7, 0, 8]],\n",
        "[[8, 1, 2], [0, 4, 3], [7, 6, 5]],\n",
        "[[1, 4, 2], [7, 0, 6], [5, 3, 8]],\n",
        "[[2, 8, 3], [1, 6, 4], [7, 0, 5]]]\n",
        "\n",
        "goal_state = [[1,2,3], [4,5,6], [7,8,0]]\n",
        "\n",
        "for i in range(len(initial_states)):\n",
        "  visualize_state(initial_states[i])\n",
        "  print(\"Nombre de tuiles mal placé pour le state numéro \" + str(i) + \" : \" + str(h1(initial_states[i], goal_state)))\n",
        "  print()"
      ],
      "metadata": {
        "id": "z9TjTq0jXFdT",
        "colab": {
          "base_uri": "https://localhost:8080/",
          "height": 1000
        },
        "outputId": "2a0b29d3-ad9b-4e70-90f7-51d3f594f794"
      },
      "id": "z9TjTq0jXFdT",
      "execution_count": null,
      "outputs": [
        {
          "output_type": "display_data",
          "data": {
            "text/plain": [
              "<IPython.core.display.HTML object>"
            ],
            "text/html": [
              "<table><tr><td style='background-color: lightblue; width: 30px; height: 30px; text-align: center; font-size: 20px;'>1</td><td style='background-color: lightblue; width: 30px; height: 30px; text-align: center; font-size: 20px;'>2</td><td style='background-color: lightblue; width: 30px; height: 30px; text-align: center; font-size: 20px;'>3</td></tr><tr><td style='background-color: lightblue; width: 30px; height: 30px; text-align: center; font-size: 20px;'>4</td><td style='background-color: lightblue; width: 30px; height: 30px; text-align: center; font-size: 20px;'>5</td><td style='background-color: lightgray; width: 30px; height: 30px; text-align: center; font-size: 20px;'> </td></tr><tr><td style='background-color: lightblue; width: 30px; height: 30px; text-align: center; font-size: 20px;'>6</td><td style='background-color: lightblue; width: 30px; height: 30px; text-align: center; font-size: 20px;'>7</td><td style='background-color: lightblue; width: 30px; height: 30px; text-align: center; font-size: 20px;'>8</td></tr></table>"
            ]
          },
          "metadata": {}
        },
        {
          "output_type": "stream",
          "name": "stdout",
          "text": [
            "Nombre de tuiles mal placé pour le state numéro 0 : 3\n",
            "\n"
          ]
        },
        {
          "output_type": "display_data",
          "data": {
            "text/plain": [
              "<IPython.core.display.HTML object>"
            ],
            "text/html": [
              "<table><tr><td style='background-color: lightblue; width: 30px; height: 30px; text-align: center; font-size: 20px;'>1</td><td style='background-color: lightblue; width: 30px; height: 30px; text-align: center; font-size: 20px;'>2</td><td style='background-color: lightblue; width: 30px; height: 30px; text-align: center; font-size: 20px;'>3</td></tr><tr><td style='background-color: lightgray; width: 30px; height: 30px; text-align: center; font-size: 20px;'> </td><td style='background-color: lightblue; width: 30px; height: 30px; text-align: center; font-size: 20px;'>5</td><td style='background-color: lightblue; width: 30px; height: 30px; text-align: center; font-size: 20px;'>6</td></tr><tr><td style='background-color: lightblue; width: 30px; height: 30px; text-align: center; font-size: 20px;'>4</td><td style='background-color: lightblue; width: 30px; height: 30px; text-align: center; font-size: 20px;'>7</td><td style='background-color: lightblue; width: 30px; height: 30px; text-align: center; font-size: 20px;'>8</td></tr></table>"
            ]
          },
          "metadata": {}
        },
        {
          "output_type": "stream",
          "name": "stdout",
          "text": [
            "Nombre de tuiles mal placé pour le state numéro 1 : 3\n",
            "\n"
          ]
        },
        {
          "output_type": "display_data",
          "data": {
            "text/plain": [
              "<IPython.core.display.HTML object>"
            ],
            "text/html": [
              "<table><tr><td style='background-color: lightblue; width: 30px; height: 30px; text-align: center; font-size: 20px;'>1</td><td style='background-color: lightgray; width: 30px; height: 30px; text-align: center; font-size: 20px;'> </td><td style='background-color: lightblue; width: 30px; height: 30px; text-align: center; font-size: 20px;'>3</td></tr><tr><td style='background-color: lightblue; width: 30px; height: 30px; text-align: center; font-size: 20px;'>4</td><td style='background-color: lightblue; width: 30px; height: 30px; text-align: center; font-size: 20px;'>2</td><td style='background-color: lightblue; width: 30px; height: 30px; text-align: center; font-size: 20px;'>5</td></tr><tr><td style='background-color: lightblue; width: 30px; height: 30px; text-align: center; font-size: 20px;'>7</td><td style='background-color: lightblue; width: 30px; height: 30px; text-align: center; font-size: 20px;'>8</td><td style='background-color: lightblue; width: 30px; height: 30px; text-align: center; font-size: 20px;'>6</td></tr></table>"
            ]
          },
          "metadata": {}
        },
        {
          "output_type": "stream",
          "name": "stdout",
          "text": [
            "Nombre de tuiles mal placé pour le state numéro 2 : 3\n",
            "\n"
          ]
        },
        {
          "output_type": "display_data",
          "data": {
            "text/plain": [
              "<IPython.core.display.HTML object>"
            ],
            "text/html": [
              "<table><tr><td style='background-color: lightblue; width: 30px; height: 30px; text-align: center; font-size: 20px;'>1</td><td style='background-color: lightgray; width: 30px; height: 30px; text-align: center; font-size: 20px;'> </td><td style='background-color: lightblue; width: 30px; height: 30px; text-align: center; font-size: 20px;'>3</td></tr><tr><td style='background-color: lightblue; width: 30px; height: 30px; text-align: center; font-size: 20px;'>4</td><td style='background-color: lightblue; width: 30px; height: 30px; text-align: center; font-size: 20px;'>5</td><td style='background-color: lightblue; width: 30px; height: 30px; text-align: center; font-size: 20px;'>2</td></tr><tr><td style='background-color: lightblue; width: 30px; height: 30px; text-align: center; font-size: 20px;'>7</td><td style='background-color: lightblue; width: 30px; height: 30px; text-align: center; font-size: 20px;'>6</td><td style='background-color: lightblue; width: 30px; height: 30px; text-align: center; font-size: 20px;'>8</td></tr></table>"
            ]
          },
          "metadata": {}
        },
        {
          "output_type": "stream",
          "name": "stdout",
          "text": [
            "Nombre de tuiles mal placé pour le state numéro 3 : 3\n",
            "\n"
          ]
        },
        {
          "output_type": "display_data",
          "data": {
            "text/plain": [
              "<IPython.core.display.HTML object>"
            ],
            "text/html": [
              "<table><tr><td style='background-color: lightblue; width: 30px; height: 30px; text-align: center; font-size: 20px;'>1</td><td style='background-color: lightgray; width: 30px; height: 30px; text-align: center; font-size: 20px;'> </td><td style='background-color: lightblue; width: 30px; height: 30px; text-align: center; font-size: 20px;'>3</td></tr><tr><td style='background-color: lightblue; width: 30px; height: 30px; text-align: center; font-size: 20px;'>4</td><td style='background-color: lightblue; width: 30px; height: 30px; text-align: center; font-size: 20px;'>2</td><td style='background-color: lightblue; width: 30px; height: 30px; text-align: center; font-size: 20px;'>5</td></tr><tr><td style='background-color: lightblue; width: 30px; height: 30px; text-align: center; font-size: 20px;'>6</td><td style='background-color: lightblue; width: 30px; height: 30px; text-align: center; font-size: 20px;'>7</td><td style='background-color: lightblue; width: 30px; height: 30px; text-align: center; font-size: 20px;'>8</td></tr></table>"
            ]
          },
          "metadata": {}
        },
        {
          "output_type": "stream",
          "name": "stdout",
          "text": [
            "Nombre de tuiles mal placé pour le state numéro 4 : 5\n",
            "\n"
          ]
        },
        {
          "output_type": "display_data",
          "data": {
            "text/plain": [
              "<IPython.core.display.HTML object>"
            ],
            "text/html": [
              "<table><tr><td style='background-color: lightblue; width: 30px; height: 30px; text-align: center; font-size: 20px;'>1</td><td style='background-color: lightblue; width: 30px; height: 30px; text-align: center; font-size: 20px;'>2</td><td style='background-color: lightblue; width: 30px; height: 30px; text-align: center; font-size: 20px;'>3</td></tr><tr><td style='background-color: lightblue; width: 30px; height: 30px; text-align: center; font-size: 20px;'>4</td><td style='background-color: lightgray; width: 30px; height: 30px; text-align: center; font-size: 20px;'> </td><td style='background-color: lightblue; width: 30px; height: 30px; text-align: center; font-size: 20px;'>6</td></tr><tr><td style='background-color: lightblue; width: 30px; height: 30px; text-align: center; font-size: 20px;'>7</td><td style='background-color: lightblue; width: 30px; height: 30px; text-align: center; font-size: 20px;'>5</td><td style='background-color: lightblue; width: 30px; height: 30px; text-align: center; font-size: 20px;'>8</td></tr></table>"
            ]
          },
          "metadata": {}
        },
        {
          "output_type": "stream",
          "name": "stdout",
          "text": [
            "Nombre de tuiles mal placé pour le state numéro 5 : 2\n",
            "\n"
          ]
        },
        {
          "output_type": "display_data",
          "data": {
            "text/plain": [
              "<IPython.core.display.HTML object>"
            ],
            "text/html": [
              "<table><tr><td style='background-color: lightblue; width: 30px; height: 30px; text-align: center; font-size: 20px;'>1</td><td style='background-color: lightblue; width: 30px; height: 30px; text-align: center; font-size: 20px;'>2</td><td style='background-color: lightblue; width: 30px; height: 30px; text-align: center; font-size: 20px;'>3</td></tr><tr><td style='background-color: lightgray; width: 30px; height: 30px; text-align: center; font-size: 20px;'> </td><td style='background-color: lightblue; width: 30px; height: 30px; text-align: center; font-size: 20px;'>4</td><td style='background-color: lightblue; width: 30px; height: 30px; text-align: center; font-size: 20px;'>6</td></tr><tr><td style='background-color: lightblue; width: 30px; height: 30px; text-align: center; font-size: 20px;'>7</td><td style='background-color: lightblue; width: 30px; height: 30px; text-align: center; font-size: 20px;'>5</td><td style='background-color: lightblue; width: 30px; height: 30px; text-align: center; font-size: 20px;'>8</td></tr></table>"
            ]
          },
          "metadata": {}
        },
        {
          "output_type": "stream",
          "name": "stdout",
          "text": [
            "Nombre de tuiles mal placé pour le state numéro 6 : 3\n",
            "\n"
          ]
        },
        {
          "output_type": "display_data",
          "data": {
            "text/plain": [
              "<IPython.core.display.HTML object>"
            ],
            "text/html": [
              "<table><tr><td style='background-color: lightblue; width: 30px; height: 30px; text-align: center; font-size: 20px;'>1</td><td style='background-color: lightblue; width: 30px; height: 30px; text-align: center; font-size: 20px;'>2</td><td style='background-color: lightblue; width: 30px; height: 30px; text-align: center; font-size: 20px;'>3</td></tr><tr><td style='background-color: lightblue; width: 30px; height: 30px; text-align: center; font-size: 20px;'>4</td><td style='background-color: lightblue; width: 30px; height: 30px; text-align: center; font-size: 20px;'>6</td><td style='background-color: lightgray; width: 30px; height: 30px; text-align: center; font-size: 20px;'> </td></tr><tr><td style='background-color: lightblue; width: 30px; height: 30px; text-align: center; font-size: 20px;'>7</td><td style='background-color: lightblue; width: 30px; height: 30px; text-align: center; font-size: 20px;'>5</td><td style='background-color: lightblue; width: 30px; height: 30px; text-align: center; font-size: 20px;'>8</td></tr></table>"
            ]
          },
          "metadata": {}
        },
        {
          "output_type": "stream",
          "name": "stdout",
          "text": [
            "Nombre de tuiles mal placé pour le state numéro 7 : 3\n",
            "\n"
          ]
        },
        {
          "output_type": "display_data",
          "data": {
            "text/plain": [
              "<IPython.core.display.HTML object>"
            ],
            "text/html": [
              "<table><tr><td style='background-color: lightblue; width: 30px; height: 30px; text-align: center; font-size: 20px;'>1</td><td style='background-color: lightblue; width: 30px; height: 30px; text-align: center; font-size: 20px;'>3</td><td style='background-color: lightblue; width: 30px; height: 30px; text-align: center; font-size: 20px;'>6</td></tr><tr><td style='background-color: lightblue; width: 30px; height: 30px; text-align: center; font-size: 20px;'>4</td><td style='background-color: lightblue; width: 30px; height: 30px; text-align: center; font-size: 20px;'>2</td><td style='background-color: lightblue; width: 30px; height: 30px; text-align: center; font-size: 20px;'>5</td></tr><tr><td style='background-color: lightblue; width: 30px; height: 30px; text-align: center; font-size: 20px;'>7</td><td style='background-color: lightgray; width: 30px; height: 30px; text-align: center; font-size: 20px;'> </td><td style='background-color: lightblue; width: 30px; height: 30px; text-align: center; font-size: 20px;'>8</td></tr></table>"
            ]
          },
          "metadata": {}
        },
        {
          "output_type": "stream",
          "name": "stdout",
          "text": [
            "Nombre de tuiles mal placé pour le state numéro 8 : 5\n",
            "\n"
          ]
        },
        {
          "output_type": "display_data",
          "data": {
            "text/plain": [
              "<IPython.core.display.HTML object>"
            ],
            "text/html": [
              "<table><tr><td style='background-color: lightblue; width: 30px; height: 30px; text-align: center; font-size: 20px;'>1</td><td style='background-color: lightblue; width: 30px; height: 30px; text-align: center; font-size: 20px;'>3</td><td style='background-color: lightblue; width: 30px; height: 30px; text-align: center; font-size: 20px;'>6</td></tr><tr><td style='background-color: lightblue; width: 30px; height: 30px; text-align: center; font-size: 20px;'>4</td><td style='background-color: lightblue; width: 30px; height: 30px; text-align: center; font-size: 20px;'>2</td><td style='background-color: lightgray; width: 30px; height: 30px; text-align: center; font-size: 20px;'> </td></tr><tr><td style='background-color: lightblue; width: 30px; height: 30px; text-align: center; font-size: 20px;'>7</td><td style='background-color: lightblue; width: 30px; height: 30px; text-align: center; font-size: 20px;'>5</td><td style='background-color: lightblue; width: 30px; height: 30px; text-align: center; font-size: 20px;'>8</td></tr></table>"
            ]
          },
          "metadata": {}
        },
        {
          "output_type": "stream",
          "name": "stdout",
          "text": [
            "Nombre de tuiles mal placé pour le state numéro 9 : 5\n",
            "\n"
          ]
        },
        {
          "output_type": "display_data",
          "data": {
            "text/plain": [
              "<IPython.core.display.HTML object>"
            ],
            "text/html": [
              "<table><tr><td style='background-color: lightblue; width: 30px; height: 30px; text-align: center; font-size: 20px;'>1</td><td style='background-color: lightblue; width: 30px; height: 30px; text-align: center; font-size: 20px;'>3</td><td style='background-color: lightblue; width: 30px; height: 30px; text-align: center; font-size: 20px;'>6</td></tr><tr><td style='background-color: lightblue; width: 30px; height: 30px; text-align: center; font-size: 20px;'>4</td><td style='background-color: lightgray; width: 30px; height: 30px; text-align: center; font-size: 20px;'> </td><td style='background-color: lightblue; width: 30px; height: 30px; text-align: center; font-size: 20px;'>2</td></tr><tr><td style='background-color: lightblue; width: 30px; height: 30px; text-align: center; font-size: 20px;'>7</td><td style='background-color: lightblue; width: 30px; height: 30px; text-align: center; font-size: 20px;'>5</td><td style='background-color: lightblue; width: 30px; height: 30px; text-align: center; font-size: 20px;'>8</td></tr></table>"
            ]
          },
          "metadata": {}
        },
        {
          "output_type": "stream",
          "name": "stdout",
          "text": [
            "Nombre de tuiles mal placé pour le state numéro 10 : 5\n",
            "\n"
          ]
        },
        {
          "output_type": "display_data",
          "data": {
            "text/plain": [
              "<IPython.core.display.HTML object>"
            ],
            "text/html": [
              "<table><tr><td style='background-color: lightblue; width: 30px; height: 30px; text-align: center; font-size: 20px;'>3</td><td style='background-color: lightblue; width: 30px; height: 30px; text-align: center; font-size: 20px;'>1</td><td style='background-color: lightblue; width: 30px; height: 30px; text-align: center; font-size: 20px;'>2</td></tr><tr><td style='background-color: lightblue; width: 30px; height: 30px; text-align: center; font-size: 20px;'>4</td><td style='background-color: lightblue; width: 30px; height: 30px; text-align: center; font-size: 20px;'>6</td><td style='background-color: lightblue; width: 30px; height: 30px; text-align: center; font-size: 20px;'>5</td></tr><tr><td style='background-color: lightblue; width: 30px; height: 30px; text-align: center; font-size: 20px;'>7</td><td style='background-color: lightgray; width: 30px; height: 30px; text-align: center; font-size: 20px;'> </td><td style='background-color: lightblue; width: 30px; height: 30px; text-align: center; font-size: 20px;'>8</td></tr></table>"
            ]
          },
          "metadata": {}
        },
        {
          "output_type": "stream",
          "name": "stdout",
          "text": [
            "Nombre de tuiles mal placé pour le state numéro 11 : 6\n",
            "\n"
          ]
        },
        {
          "output_type": "display_data",
          "data": {
            "text/plain": [
              "<IPython.core.display.HTML object>"
            ],
            "text/html": [
              "<table><tr><td style='background-color: lightblue; width: 30px; height: 30px; text-align: center; font-size: 20px;'>8</td><td style='background-color: lightblue; width: 30px; height: 30px; text-align: center; font-size: 20px;'>1</td><td style='background-color: lightblue; width: 30px; height: 30px; text-align: center; font-size: 20px;'>2</td></tr><tr><td style='background-color: lightgray; width: 30px; height: 30px; text-align: center; font-size: 20px;'> </td><td style='background-color: lightblue; width: 30px; height: 30px; text-align: center; font-size: 20px;'>4</td><td style='background-color: lightblue; width: 30px; height: 30px; text-align: center; font-size: 20px;'>3</td></tr><tr><td style='background-color: lightblue; width: 30px; height: 30px; text-align: center; font-size: 20px;'>7</td><td style='background-color: lightblue; width: 30px; height: 30px; text-align: center; font-size: 20px;'>6</td><td style='background-color: lightblue; width: 30px; height: 30px; text-align: center; font-size: 20px;'>5</td></tr></table>"
            ]
          },
          "metadata": {}
        },
        {
          "output_type": "stream",
          "name": "stdout",
          "text": [
            "Nombre de tuiles mal placé pour le state numéro 12 : 7\n",
            "\n"
          ]
        },
        {
          "output_type": "display_data",
          "data": {
            "text/plain": [
              "<IPython.core.display.HTML object>"
            ],
            "text/html": [
              "<table><tr><td style='background-color: lightblue; width: 30px; height: 30px; text-align: center; font-size: 20px;'>1</td><td style='background-color: lightblue; width: 30px; height: 30px; text-align: center; font-size: 20px;'>4</td><td style='background-color: lightblue; width: 30px; height: 30px; text-align: center; font-size: 20px;'>2</td></tr><tr><td style='background-color: lightblue; width: 30px; height: 30px; text-align: center; font-size: 20px;'>7</td><td style='background-color: lightgray; width: 30px; height: 30px; text-align: center; font-size: 20px;'> </td><td style='background-color: lightblue; width: 30px; height: 30px; text-align: center; font-size: 20px;'>6</td></tr><tr><td style='background-color: lightblue; width: 30px; height: 30px; text-align: center; font-size: 20px;'>5</td><td style='background-color: lightblue; width: 30px; height: 30px; text-align: center; font-size: 20px;'>3</td><td style='background-color: lightblue; width: 30px; height: 30px; text-align: center; font-size: 20px;'>8</td></tr></table>"
            ]
          },
          "metadata": {}
        },
        {
          "output_type": "stream",
          "name": "stdout",
          "text": [
            "Nombre de tuiles mal placé pour le state numéro 13 : 6\n",
            "\n"
          ]
        },
        {
          "output_type": "display_data",
          "data": {
            "text/plain": [
              "<IPython.core.display.HTML object>"
            ],
            "text/html": [
              "<table><tr><td style='background-color: lightblue; width: 30px; height: 30px; text-align: center; font-size: 20px;'>2</td><td style='background-color: lightblue; width: 30px; height: 30px; text-align: center; font-size: 20px;'>8</td><td style='background-color: lightblue; width: 30px; height: 30px; text-align: center; font-size: 20px;'>3</td></tr><tr><td style='background-color: lightblue; width: 30px; height: 30px; text-align: center; font-size: 20px;'>1</td><td style='background-color: lightblue; width: 30px; height: 30px; text-align: center; font-size: 20px;'>6</td><td style='background-color: lightblue; width: 30px; height: 30px; text-align: center; font-size: 20px;'>4</td></tr><tr><td style='background-color: lightblue; width: 30px; height: 30px; text-align: center; font-size: 20px;'>7</td><td style='background-color: lightgray; width: 30px; height: 30px; text-align: center; font-size: 20px;'> </td><td style='background-color: lightblue; width: 30px; height: 30px; text-align: center; font-size: 20px;'>5</td></tr></table>"
            ]
          },
          "metadata": {}
        },
        {
          "output_type": "stream",
          "name": "stdout",
          "text": [
            "Nombre de tuiles mal placé pour le state numéro 14 : 6\n",
            "\n"
          ]
        }
      ]
    },
    {
      "cell_type": "markdown",
      "id": "07e016a4-130a-4c3d-a67d-be747d944d75",
      "metadata": {
        "id": "07e016a4-130a-4c3d-a67d-be747d944d75"
      },
      "source": [
        "## **1.2 H$_2$ : Distance de Manhattan**"
      ]
    },
    {
      "cell_type": "markdown",
      "id": "caef00d5-a121-41f8-b295-1fc3080ca4df",
      "metadata": {
        "id": "caef00d5-a121-41f8-b295-1fc3080ca4df"
      },
      "source": [
        "### **Exercice 3**\n",
        "Écrivez une fonction qui calcule la distance de Manhattan entre un état et l'état but. La fonction **next()** pourrait être utile pour trouver la position d'une tuile donnée dans l'état but."
      ]
    },
    {
      "cell_type": "code",
      "source": [
        "def h2(state, goal):\n",
        "    distance = 0\n",
        "    for i in range(len(state)):\n",
        "        for j in range(len(state[i])):\n",
        "            if state[i][j] != 0:\n",
        "                goal_pos = next((k, l) for k in range(len(goal)) for l in range(len(goal)) if goal[k][l] == state[i][j]) #next va servir de break et donc les boucles ne vont pas s'arréter tant que la condition if n'est pas valid\n",
        "                distance += abs(i - goal_pos[0]) + abs(j - goal_pos[1])\n",
        "    return distance\n"
      ],
      "metadata": {
        "id": "Py8rUVZvX7ji"
      },
      "id": "Py8rUVZvX7ji",
      "execution_count": null,
      "outputs": []
    },
    {
      "cell_type": "markdown",
      "id": "a18973f9-d192-4202-9468-571fae0735f5",
      "metadata": {
        "id": "a18973f9-d192-4202-9468-571fae0735f5"
      },
      "source": [
        "### **Exercice 4**\n",
        "1. Calculez la distance de Manhattan des états de l'exercice 2.\n",
        "2. Que pouvez-vous observer par rapport aux deux heuristiques ?"
      ]
    },
    {
      "cell_type": "code",
      "source": [
        "for i in range(len(initial_states)):\n",
        "  visualize_state(initial_states[i])\n",
        "  print(h2(initial_states[i], goal_state))\n",
        "  print()"
      ],
      "metadata": {
        "id": "sR1UFPlRX_mK",
        "colab": {
          "base_uri": "https://localhost:8080/",
          "height": 1000
        },
        "outputId": "b6b826dc-a2bd-43b7-e722-4ddb270b048d"
      },
      "id": "sR1UFPlRX_mK",
      "execution_count": null,
      "outputs": [
        {
          "output_type": "display_data",
          "data": {
            "text/plain": [
              "<IPython.core.display.HTML object>"
            ],
            "text/html": [
              "<table><tr><td style='background-color: lightblue; width: 30px; height: 30px; text-align: center; font-size: 20px;'>1</td><td style='background-color: lightblue; width: 30px; height: 30px; text-align: center; font-size: 20px;'>2</td><td style='background-color: lightblue; width: 30px; height: 30px; text-align: center; font-size: 20px;'>3</td></tr><tr><td style='background-color: lightblue; width: 30px; height: 30px; text-align: center; font-size: 20px;'>4</td><td style='background-color: lightblue; width: 30px; height: 30px; text-align: center; font-size: 20px;'>5</td><td style='background-color: lightgray; width: 30px; height: 30px; text-align: center; font-size: 20px;'> </td></tr><tr><td style='background-color: lightblue; width: 30px; height: 30px; text-align: center; font-size: 20px;'>6</td><td style='background-color: lightblue; width: 30px; height: 30px; text-align: center; font-size: 20px;'>7</td><td style='background-color: lightblue; width: 30px; height: 30px; text-align: center; font-size: 20px;'>8</td></tr></table>"
            ]
          },
          "metadata": {}
        },
        {
          "output_type": "stream",
          "name": "stdout",
          "text": [
            "5\n",
            "\n"
          ]
        },
        {
          "output_type": "display_data",
          "data": {
            "text/plain": [
              "<IPython.core.display.HTML object>"
            ],
            "text/html": [
              "<table><tr><td style='background-color: lightblue; width: 30px; height: 30px; text-align: center; font-size: 20px;'>1</td><td style='background-color: lightblue; width: 30px; height: 30px; text-align: center; font-size: 20px;'>2</td><td style='background-color: lightblue; width: 30px; height: 30px; text-align: center; font-size: 20px;'>3</td></tr><tr><td style='background-color: lightgray; width: 30px; height: 30px; text-align: center; font-size: 20px;'> </td><td style='background-color: lightblue; width: 30px; height: 30px; text-align: center; font-size: 20px;'>5</td><td style='background-color: lightblue; width: 30px; height: 30px; text-align: center; font-size: 20px;'>6</td></tr><tr><td style='background-color: lightblue; width: 30px; height: 30px; text-align: center; font-size: 20px;'>4</td><td style='background-color: lightblue; width: 30px; height: 30px; text-align: center; font-size: 20px;'>7</td><td style='background-color: lightblue; width: 30px; height: 30px; text-align: center; font-size: 20px;'>8</td></tr></table>"
            ]
          },
          "metadata": {}
        },
        {
          "output_type": "stream",
          "name": "stdout",
          "text": [
            "3\n",
            "\n"
          ]
        },
        {
          "output_type": "display_data",
          "data": {
            "text/plain": [
              "<IPython.core.display.HTML object>"
            ],
            "text/html": [
              "<table><tr><td style='background-color: lightblue; width: 30px; height: 30px; text-align: center; font-size: 20px;'>1</td><td style='background-color: lightgray; width: 30px; height: 30px; text-align: center; font-size: 20px;'> </td><td style='background-color: lightblue; width: 30px; height: 30px; text-align: center; font-size: 20px;'>3</td></tr><tr><td style='background-color: lightblue; width: 30px; height: 30px; text-align: center; font-size: 20px;'>4</td><td style='background-color: lightblue; width: 30px; height: 30px; text-align: center; font-size: 20px;'>2</td><td style='background-color: lightblue; width: 30px; height: 30px; text-align: center; font-size: 20px;'>5</td></tr><tr><td style='background-color: lightblue; width: 30px; height: 30px; text-align: center; font-size: 20px;'>7</td><td style='background-color: lightblue; width: 30px; height: 30px; text-align: center; font-size: 20px;'>8</td><td style='background-color: lightblue; width: 30px; height: 30px; text-align: center; font-size: 20px;'>6</td></tr></table>"
            ]
          },
          "metadata": {}
        },
        {
          "output_type": "stream",
          "name": "stdout",
          "text": [
            "3\n",
            "\n"
          ]
        },
        {
          "output_type": "display_data",
          "data": {
            "text/plain": [
              "<IPython.core.display.HTML object>"
            ],
            "text/html": [
              "<table><tr><td style='background-color: lightblue; width: 30px; height: 30px; text-align: center; font-size: 20px;'>1</td><td style='background-color: lightgray; width: 30px; height: 30px; text-align: center; font-size: 20px;'> </td><td style='background-color: lightblue; width: 30px; height: 30px; text-align: center; font-size: 20px;'>3</td></tr><tr><td style='background-color: lightblue; width: 30px; height: 30px; text-align: center; font-size: 20px;'>4</td><td style='background-color: lightblue; width: 30px; height: 30px; text-align: center; font-size: 20px;'>5</td><td style='background-color: lightblue; width: 30px; height: 30px; text-align: center; font-size: 20px;'>2</td></tr><tr><td style='background-color: lightblue; width: 30px; height: 30px; text-align: center; font-size: 20px;'>7</td><td style='background-color: lightblue; width: 30px; height: 30px; text-align: center; font-size: 20px;'>6</td><td style='background-color: lightblue; width: 30px; height: 30px; text-align: center; font-size: 20px;'>8</td></tr></table>"
            ]
          },
          "metadata": {}
        },
        {
          "output_type": "stream",
          "name": "stdout",
          "text": [
            "5\n",
            "\n"
          ]
        },
        {
          "output_type": "display_data",
          "data": {
            "text/plain": [
              "<IPython.core.display.HTML object>"
            ],
            "text/html": [
              "<table><tr><td style='background-color: lightblue; width: 30px; height: 30px; text-align: center; font-size: 20px;'>1</td><td style='background-color: lightgray; width: 30px; height: 30px; text-align: center; font-size: 20px;'> </td><td style='background-color: lightblue; width: 30px; height: 30px; text-align: center; font-size: 20px;'>3</td></tr><tr><td style='background-color: lightblue; width: 30px; height: 30px; text-align: center; font-size: 20px;'>4</td><td style='background-color: lightblue; width: 30px; height: 30px; text-align: center; font-size: 20px;'>2</td><td style='background-color: lightblue; width: 30px; height: 30px; text-align: center; font-size: 20px;'>5</td></tr><tr><td style='background-color: lightblue; width: 30px; height: 30px; text-align: center; font-size: 20px;'>6</td><td style='background-color: lightblue; width: 30px; height: 30px; text-align: center; font-size: 20px;'>7</td><td style='background-color: lightblue; width: 30px; height: 30px; text-align: center; font-size: 20px;'>8</td></tr></table>"
            ]
          },
          "metadata": {}
        },
        {
          "output_type": "stream",
          "name": "stdout",
          "text": [
            "7\n",
            "\n"
          ]
        },
        {
          "output_type": "display_data",
          "data": {
            "text/plain": [
              "<IPython.core.display.HTML object>"
            ],
            "text/html": [
              "<table><tr><td style='background-color: lightblue; width: 30px; height: 30px; text-align: center; font-size: 20px;'>1</td><td style='background-color: lightblue; width: 30px; height: 30px; text-align: center; font-size: 20px;'>2</td><td style='background-color: lightblue; width: 30px; height: 30px; text-align: center; font-size: 20px;'>3</td></tr><tr><td style='background-color: lightblue; width: 30px; height: 30px; text-align: center; font-size: 20px;'>4</td><td style='background-color: lightgray; width: 30px; height: 30px; text-align: center; font-size: 20px;'> </td><td style='background-color: lightblue; width: 30px; height: 30px; text-align: center; font-size: 20px;'>6</td></tr><tr><td style='background-color: lightblue; width: 30px; height: 30px; text-align: center; font-size: 20px;'>7</td><td style='background-color: lightblue; width: 30px; height: 30px; text-align: center; font-size: 20px;'>5</td><td style='background-color: lightblue; width: 30px; height: 30px; text-align: center; font-size: 20px;'>8</td></tr></table>"
            ]
          },
          "metadata": {}
        },
        {
          "output_type": "stream",
          "name": "stdout",
          "text": [
            "2\n",
            "\n"
          ]
        },
        {
          "output_type": "display_data",
          "data": {
            "text/plain": [
              "<IPython.core.display.HTML object>"
            ],
            "text/html": [
              "<table><tr><td style='background-color: lightblue; width: 30px; height: 30px; text-align: center; font-size: 20px;'>1</td><td style='background-color: lightblue; width: 30px; height: 30px; text-align: center; font-size: 20px;'>2</td><td style='background-color: lightblue; width: 30px; height: 30px; text-align: center; font-size: 20px;'>3</td></tr><tr><td style='background-color: lightgray; width: 30px; height: 30px; text-align: center; font-size: 20px;'> </td><td style='background-color: lightblue; width: 30px; height: 30px; text-align: center; font-size: 20px;'>4</td><td style='background-color: lightblue; width: 30px; height: 30px; text-align: center; font-size: 20px;'>6</td></tr><tr><td style='background-color: lightblue; width: 30px; height: 30px; text-align: center; font-size: 20px;'>7</td><td style='background-color: lightblue; width: 30px; height: 30px; text-align: center; font-size: 20px;'>5</td><td style='background-color: lightblue; width: 30px; height: 30px; text-align: center; font-size: 20px;'>8</td></tr></table>"
            ]
          },
          "metadata": {}
        },
        {
          "output_type": "stream",
          "name": "stdout",
          "text": [
            "3\n",
            "\n"
          ]
        },
        {
          "output_type": "display_data",
          "data": {
            "text/plain": [
              "<IPython.core.display.HTML object>"
            ],
            "text/html": [
              "<table><tr><td style='background-color: lightblue; width: 30px; height: 30px; text-align: center; font-size: 20px;'>1</td><td style='background-color: lightblue; width: 30px; height: 30px; text-align: center; font-size: 20px;'>2</td><td style='background-color: lightblue; width: 30px; height: 30px; text-align: center; font-size: 20px;'>3</td></tr><tr><td style='background-color: lightblue; width: 30px; height: 30px; text-align: center; font-size: 20px;'>4</td><td style='background-color: lightblue; width: 30px; height: 30px; text-align: center; font-size: 20px;'>6</td><td style='background-color: lightgray; width: 30px; height: 30px; text-align: center; font-size: 20px;'> </td></tr><tr><td style='background-color: lightblue; width: 30px; height: 30px; text-align: center; font-size: 20px;'>7</td><td style='background-color: lightblue; width: 30px; height: 30px; text-align: center; font-size: 20px;'>5</td><td style='background-color: lightblue; width: 30px; height: 30px; text-align: center; font-size: 20px;'>8</td></tr></table>"
            ]
          },
          "metadata": {}
        },
        {
          "output_type": "stream",
          "name": "stdout",
          "text": [
            "3\n",
            "\n"
          ]
        },
        {
          "output_type": "display_data",
          "data": {
            "text/plain": [
              "<IPython.core.display.HTML object>"
            ],
            "text/html": [
              "<table><tr><td style='background-color: lightblue; width: 30px; height: 30px; text-align: center; font-size: 20px;'>1</td><td style='background-color: lightblue; width: 30px; height: 30px; text-align: center; font-size: 20px;'>3</td><td style='background-color: lightblue; width: 30px; height: 30px; text-align: center; font-size: 20px;'>6</td></tr><tr><td style='background-color: lightblue; width: 30px; height: 30px; text-align: center; font-size: 20px;'>4</td><td style='background-color: lightblue; width: 30px; height: 30px; text-align: center; font-size: 20px;'>2</td><td style='background-color: lightblue; width: 30px; height: 30px; text-align: center; font-size: 20px;'>5</td></tr><tr><td style='background-color: lightblue; width: 30px; height: 30px; text-align: center; font-size: 20px;'>7</td><td style='background-color: lightgray; width: 30px; height: 30px; text-align: center; font-size: 20px;'> </td><td style='background-color: lightblue; width: 30px; height: 30px; text-align: center; font-size: 20px;'>8</td></tr></table>"
            ]
          },
          "metadata": {}
        },
        {
          "output_type": "stream",
          "name": "stdout",
          "text": [
            "5\n",
            "\n"
          ]
        },
        {
          "output_type": "display_data",
          "data": {
            "text/plain": [
              "<IPython.core.display.HTML object>"
            ],
            "text/html": [
              "<table><tr><td style='background-color: lightblue; width: 30px; height: 30px; text-align: center; font-size: 20px;'>1</td><td style='background-color: lightblue; width: 30px; height: 30px; text-align: center; font-size: 20px;'>3</td><td style='background-color: lightblue; width: 30px; height: 30px; text-align: center; font-size: 20px;'>6</td></tr><tr><td style='background-color: lightblue; width: 30px; height: 30px; text-align: center; font-size: 20px;'>4</td><td style='background-color: lightblue; width: 30px; height: 30px; text-align: center; font-size: 20px;'>2</td><td style='background-color: lightgray; width: 30px; height: 30px; text-align: center; font-size: 20px;'> </td></tr><tr><td style='background-color: lightblue; width: 30px; height: 30px; text-align: center; font-size: 20px;'>7</td><td style='background-color: lightblue; width: 30px; height: 30px; text-align: center; font-size: 20px;'>5</td><td style='background-color: lightblue; width: 30px; height: 30px; text-align: center; font-size: 20px;'>8</td></tr></table>"
            ]
          },
          "metadata": {}
        },
        {
          "output_type": "stream",
          "name": "stdout",
          "text": [
            "5\n",
            "\n"
          ]
        },
        {
          "output_type": "display_data",
          "data": {
            "text/plain": [
              "<IPython.core.display.HTML object>"
            ],
            "text/html": [
              "<table><tr><td style='background-color: lightblue; width: 30px; height: 30px; text-align: center; font-size: 20px;'>1</td><td style='background-color: lightblue; width: 30px; height: 30px; text-align: center; font-size: 20px;'>3</td><td style='background-color: lightblue; width: 30px; height: 30px; text-align: center; font-size: 20px;'>6</td></tr><tr><td style='background-color: lightblue; width: 30px; height: 30px; text-align: center; font-size: 20px;'>4</td><td style='background-color: lightgray; width: 30px; height: 30px; text-align: center; font-size: 20px;'> </td><td style='background-color: lightblue; width: 30px; height: 30px; text-align: center; font-size: 20px;'>2</td></tr><tr><td style='background-color: lightblue; width: 30px; height: 30px; text-align: center; font-size: 20px;'>7</td><td style='background-color: lightblue; width: 30px; height: 30px; text-align: center; font-size: 20px;'>5</td><td style='background-color: lightblue; width: 30px; height: 30px; text-align: center; font-size: 20px;'>8</td></tr></table>"
            ]
          },
          "metadata": {}
        },
        {
          "output_type": "stream",
          "name": "stdout",
          "text": [
            "6\n",
            "\n"
          ]
        },
        {
          "output_type": "display_data",
          "data": {
            "text/plain": [
              "<IPython.core.display.HTML object>"
            ],
            "text/html": [
              "<table><tr><td style='background-color: lightblue; width: 30px; height: 30px; text-align: center; font-size: 20px;'>3</td><td style='background-color: lightblue; width: 30px; height: 30px; text-align: center; font-size: 20px;'>1</td><td style='background-color: lightblue; width: 30px; height: 30px; text-align: center; font-size: 20px;'>2</td></tr><tr><td style='background-color: lightblue; width: 30px; height: 30px; text-align: center; font-size: 20px;'>4</td><td style='background-color: lightblue; width: 30px; height: 30px; text-align: center; font-size: 20px;'>6</td><td style='background-color: lightblue; width: 30px; height: 30px; text-align: center; font-size: 20px;'>5</td></tr><tr><td style='background-color: lightblue; width: 30px; height: 30px; text-align: center; font-size: 20px;'>7</td><td style='background-color: lightgray; width: 30px; height: 30px; text-align: center; font-size: 20px;'> </td><td style='background-color: lightblue; width: 30px; height: 30px; text-align: center; font-size: 20px;'>8</td></tr></table>"
            ]
          },
          "metadata": {}
        },
        {
          "output_type": "stream",
          "name": "stdout",
          "text": [
            "7\n",
            "\n"
          ]
        },
        {
          "output_type": "display_data",
          "data": {
            "text/plain": [
              "<IPython.core.display.HTML object>"
            ],
            "text/html": [
              "<table><tr><td style='background-color: lightblue; width: 30px; height: 30px; text-align: center; font-size: 20px;'>8</td><td style='background-color: lightblue; width: 30px; height: 30px; text-align: center; font-size: 20px;'>1</td><td style='background-color: lightblue; width: 30px; height: 30px; text-align: center; font-size: 20px;'>2</td></tr><tr><td style='background-color: lightgray; width: 30px; height: 30px; text-align: center; font-size: 20px;'> </td><td style='background-color: lightblue; width: 30px; height: 30px; text-align: center; font-size: 20px;'>4</td><td style='background-color: lightblue; width: 30px; height: 30px; text-align: center; font-size: 20px;'>3</td></tr><tr><td style='background-color: lightblue; width: 30px; height: 30px; text-align: center; font-size: 20px;'>7</td><td style='background-color: lightblue; width: 30px; height: 30px; text-align: center; font-size: 20px;'>6</td><td style='background-color: lightblue; width: 30px; height: 30px; text-align: center; font-size: 20px;'>5</td></tr></table>"
            ]
          },
          "metadata": {}
        },
        {
          "output_type": "stream",
          "name": "stdout",
          "text": [
            "11\n",
            "\n"
          ]
        },
        {
          "output_type": "display_data",
          "data": {
            "text/plain": [
              "<IPython.core.display.HTML object>"
            ],
            "text/html": [
              "<table><tr><td style='background-color: lightblue; width: 30px; height: 30px; text-align: center; font-size: 20px;'>1</td><td style='background-color: lightblue; width: 30px; height: 30px; text-align: center; font-size: 20px;'>4</td><td style='background-color: lightblue; width: 30px; height: 30px; text-align: center; font-size: 20px;'>2</td></tr><tr><td style='background-color: lightblue; width: 30px; height: 30px; text-align: center; font-size: 20px;'>7</td><td style='background-color: lightgray; width: 30px; height: 30px; text-align: center; font-size: 20px;'> </td><td style='background-color: lightblue; width: 30px; height: 30px; text-align: center; font-size: 20px;'>6</td></tr><tr><td style='background-color: lightblue; width: 30px; height: 30px; text-align: center; font-size: 20px;'>5</td><td style='background-color: lightblue; width: 30px; height: 30px; text-align: center; font-size: 20px;'>3</td><td style='background-color: lightblue; width: 30px; height: 30px; text-align: center; font-size: 20px;'>8</td></tr></table>"
            ]
          },
          "metadata": {}
        },
        {
          "output_type": "stream",
          "name": "stdout",
          "text": [
            "10\n",
            "\n"
          ]
        },
        {
          "output_type": "display_data",
          "data": {
            "text/plain": [
              "<IPython.core.display.HTML object>"
            ],
            "text/html": [
              "<table><tr><td style='background-color: lightblue; width: 30px; height: 30px; text-align: center; font-size: 20px;'>2</td><td style='background-color: lightblue; width: 30px; height: 30px; text-align: center; font-size: 20px;'>8</td><td style='background-color: lightblue; width: 30px; height: 30px; text-align: center; font-size: 20px;'>3</td></tr><tr><td style='background-color: lightblue; width: 30px; height: 30px; text-align: center; font-size: 20px;'>1</td><td style='background-color: lightblue; width: 30px; height: 30px; text-align: center; font-size: 20px;'>6</td><td style='background-color: lightblue; width: 30px; height: 30px; text-align: center; font-size: 20px;'>4</td></tr><tr><td style='background-color: lightblue; width: 30px; height: 30px; text-align: center; font-size: 20px;'>7</td><td style='background-color: lightgray; width: 30px; height: 30px; text-align: center; font-size: 20px;'> </td><td style='background-color: lightblue; width: 30px; height: 30px; text-align: center; font-size: 20px;'>5</td></tr></table>"
            ]
          },
          "metadata": {}
        },
        {
          "output_type": "stream",
          "name": "stdout",
          "text": [
            "9\n",
            "\n"
          ]
        }
      ]
    },
    {
      "cell_type": "markdown",
      "id": "320f3448-3bfa-49a8-a384-c6015c248198",
      "metadata": {
        "id": "320f3448-3bfa-49a8-a384-c6015c248198"
      },
      "source": [
        "# **Partie 2 : Algorithme A étoile**"
      ]
    },
    {
      "cell_type": "markdown",
      "source": [
        "### **Exercice 5**\n",
        "\n",
        "Créer une fonction A_etoile qui prend un objet problem en entrée ainsi qu'une heuristique et exécute l'algorithme A.*\n",
        "\n",
        "Votre fonction doit :\n",
        "\n",
        "1. Retourner le nœud objectif trouvé ainsi que le nombre de nœuds explorés.\n",
        "2. Retourner None si l'algorithme explore tout l'arbre sans trouver le nœud objectif.\n",
        "3. Prendre en compte un budget d'exploration pour arrêter l'algorithme si aucune solution n'est trouvée après plusieurs itérations (utile pour les grands problèmes). Le budget sera également un paramètre d'entrée de la fonction, avec float('inf') comme valeur par défaut.\n",
        "\n",
        "Pour la **frontière** et l'ensemble des **nœuds déjà explorés**, vous pouvez utiliser des listes. Cependant, la frontière doit contenir les nœuds à explorer ainsi que leurs coûts (coût réel + heuristique). Pour trouver l'élément (nœud, coût) de coût minimal dans la frontière, effectuez une boucle **for** pour trouver l'indice, puis utilisez pop.\n",
        "\n",
        "Pour ajouter un élément à une liste, vous pouvez utiliser **liste.append(element)**.\n",
        "\n",
        "Rappelez-vous que la vérification **is_goal** doit être effectuée avant d'explorer les enfants."
      ],
      "metadata": {
        "id": "h7rz7ucRYjOU"
      },
      "id": "h7rz7ucRYjOU"
    },
    {
      "cell_type": "code",
      "source": [
        "def a_etoile(problem, heuristic, Max_it = float('inf')):\n",
        "    # Initialisation de la file d'attente prioritaire (frontier) et de l'ensemble des nœuds explorés\n",
        "    frontier = [(0, Node(problem.initial_state))]  # Ajout du noeud initial + son cout total f (f, noeud)\n",
        "    explored = []\n",
        "    it = 0\n",
        "\n",
        "    # Boucle principale de l'algorithme A*\n",
        "    while frontier and it < Max_it:\n",
        "        it = it + 1\n",
        "        # Trouver le nœud ayant la valeur f la plus faible dans la frontier\n",
        "        min_f = float('inf') # F = g (cout d'action) + h(cout heuristique)\n",
        "        min_index = -1 # index du noeud ayant le cout minimale(f)\n",
        "        for i, (f, node) in enumerate(frontier):\n",
        "            if f < min_f:\n",
        "                min_f = f\n",
        "                min_index = i\n",
        "\n",
        "        # Retirer le nœud ayant la valeur f la plus faible de la frontier\n",
        "        _, node = frontier.pop(min_index) # We do not store the value f as we will not use it frontier\n",
        "\n",
        "        if problem.is_goal(node.state):\n",
        "            # Solution trouvée !\n",
        "            return node, it\n",
        "\n",
        "        explored.append(node.state)\n",
        "\n",
        "        for child in node.expand(problem):\n",
        "            if child.state not in explored:\n",
        "                # Calcul de la valeur f (f = g + h)\n",
        "                g = child.path_cost\n",
        "                h = heuristic(child.state, problem.goal_state)  # Utilisation de la fonction heuristique spécifiée\n",
        "                f = g + h\n",
        "\n",
        "                # Ajout du nœud enfant à la frontier\n",
        "                frontier.append((f, child))\n",
        "\n",
        "    # Aucune solution trouvée\n",
        "    return None, it"
      ],
      "metadata": {
        "id": "j_YHqTghZCvJ"
      },
      "id": "j_YHqTghZCvJ",
      "execution_count": null,
      "outputs": []
    },
    {
      "cell_type": "markdown",
      "source": [
        "### **Exercice 6**\n",
        "\n",
        "Appliquez votre fonction A_etoile pour résoudre un Taquin 3x3 avec l'état initial [[1, 2, 3], [4, 5, 6], [0, 7, 8]] et les deux heuristiques.\n",
        "\n",
        "Imprimez :\n",
        "1. Le nombre de nœuds explorés par l'algorithme.\n",
        "2. Le chemin permettant de passer de l'état initial à l'état objectif (la liste des actions effectuées).\n",
        "3. Que pouvez-vous observer entre les deux heuristiques ?"
      ],
      "metadata": {
        "id": "9ym6ZMySc5XV"
      },
      "id": "9ym6ZMySc5XV"
    },
    {
      "cell_type": "code",
      "source": [
        "initial_state = [[1, 2, 3], [4, 5, 0], [6, 7, 8]]\n",
        "goal_state = [[1, 2, 3], [4, 5, 6], [7, 8, 0]]\n",
        "\n",
        "print('Initial state')\n",
        "visualize_state(initial_state)\n",
        "problem = Taquin(initial_state, goal_state, len(initial_state[0]))\n",
        "solution_node_misplaced, it_misplacec = a_etoile(problem, h1, Max_it = 20000)\n",
        "solution_node_manhattan, it_manhattan = a_etoile(problem, h2, Max_it = 20000)\n",
        "# Print the solution (if found)\n",
        "if solution_node_misplaced:\n",
        "    print(\"Solution with 1st heuristic found in\",it_misplacec,\"iterations\")\n",
        "    print(\"Actions:\", solution_node_misplaced.solution())\n",
        "    # Visualize the solution path (optional)\n",
        "    # t = 1\n",
        "    # for node in solution_node_misplaced.path():\n",
        "    #     print(t,'-th element of the path')\n",
        "    #     visualize_state(node.state)\n",
        "    #     t = t + 1\n",
        "else:\n",
        "    print(\"A* with h1 did not found a solution.\")\n",
        "\n",
        "if solution_node_manhattan:\n",
        "    print(\"Solution with 2nd heuristic found in\",it_manhattan,\"iterations\")\n",
        "    print(\"Actions:\", solution_node_manhattan.solution())\n",
        "    # Visualize the solution path (optional)\n",
        "    # t = 1\n",
        "    # for node in solution_node_manhattan.path():\n",
        "    #     print(t,'-th element of the path')\n",
        "    #     visualize_state(node.state)\n",
        "    #     t = t + 1\n",
        "else:\n",
        "    print(\"A* with h2 did not found a solution.\")"
      ],
      "metadata": {
        "id": "E55HyWdpc5qU",
        "colab": {
          "base_uri": "https://localhost:8080/",
          "height": 208
        },
        "outputId": "9d2d0f61-899c-4dce-e2d7-017629065dcc"
      },
      "id": "E55HyWdpc5qU",
      "execution_count": null,
      "outputs": [
        {
          "output_type": "stream",
          "name": "stdout",
          "text": [
            "Initial state\n"
          ]
        },
        {
          "output_type": "display_data",
          "data": {
            "text/plain": [
              "<IPython.core.display.HTML object>"
            ],
            "text/html": [
              "<table><tr><td style='background-color: lightblue; width: 30px; height: 30px; text-align: center; font-size: 20px;'>1</td><td style='background-color: lightblue; width: 30px; height: 30px; text-align: center; font-size: 20px;'>2</td><td style='background-color: lightblue; width: 30px; height: 30px; text-align: center; font-size: 20px;'>3</td></tr><tr><td style='background-color: lightblue; width: 30px; height: 30px; text-align: center; font-size: 20px;'>4</td><td style='background-color: lightblue; width: 30px; height: 30px; text-align: center; font-size: 20px;'>5</td><td style='background-color: lightgray; width: 30px; height: 30px; text-align: center; font-size: 20px;'> </td></tr><tr><td style='background-color: lightblue; width: 30px; height: 30px; text-align: center; font-size: 20px;'>6</td><td style='background-color: lightblue; width: 30px; height: 30px; text-align: center; font-size: 20px;'>7</td><td style='background-color: lightblue; width: 30px; height: 30px; text-align: center; font-size: 20px;'>8</td></tr></table>"
            ]
          },
          "metadata": {}
        },
        {
          "output_type": "stream",
          "name": "stdout",
          "text": [
            "Solution with 1st heuristic found in 196 iterations\n",
            "Actions: ['down', 'left', 'left', 'up', 'right', 'down', 'right', 'up', 'left', 'left', 'down', 'right', 'right']\n",
            "Solution with 2nd heuristic found in 85 iterations\n",
            "Actions: ['down', 'left', 'left', 'up', 'right', 'down', 'right', 'up', 'left', 'left', 'down', 'right', 'right']\n"
          ]
        }
      ]
    },
    {
      "cell_type": "markdown",
      "source": [
        "# **Partie 3 : Comparaison empirique de DFS, BFS, A etoile avec H1 et A etoile avec H2**"
      ],
      "metadata": {
        "id": "Yd86WvHB10aR"
      },
      "id": "Yd86WvHB10aR"
    },
    {
      "cell_type": "markdown",
      "source": [
        "Nous allons comparer les quatre algorithmes sur les 15 instances du jeu de Taquin de l'exercice 2. Pour cela, voici les résultats de BFS et DFS sur ces 15 instances. Attention au format des tableaux. Les noms des colonnes peuvent différer de ceux que vous avez utilisés. De plus, un path_length égal à -1 signifie que l'algorithme n'a pas trouvé la solution avant d'atteindre le budget d'exploration."
      ],
      "metadata": {
        "id": "OFK7Y0ms1-6H"
      },
      "id": "OFK7Y0ms1-6H"
    },
    {
      "cell_type": "code",
      "source": [
        "results_BFS = [\n",
        "{'initial_state': [[1, 2, 3], [4, 5, 0], [6, 7, 8]],'algorithm': 'breadth_first_search', 'num_explorations': 1846, 'path_length': 13, 'execution_time': 0.2773609161376953},\n",
        "{'initial_state': [[1, 2, 3], [0, 5, 6], [4, 7, 8]], 'algorithm': 'breadth_first_search', 'num_explorations': 6, 'path_length': 3, 'execution_time': 0.0},\n",
        "{'initial_state': [[1, 0, 3], [4, 2, 5], [7, 8, 6]], 'algorithm': 'breadth_first_search', 'num_explorations': 7, 'path_length': 3, 'execution_time': 0.0},\n",
        "{'initial_state': [[1, 0, 3], [4, 5, 2], [7, 6, 8]], 'algorithm': 'breadth_first_search', 'num_explorations': 10911, 'path_length': 17, 'execution_time': 8.975327491760254},\n",
        "{'initial_state': [[1, 0, 3], [4, 2, 5], [6, 7, 8]], 'algorithm': 'breadth_first_search', 'num_explorations': 4960, 'path_length': 15, 'execution_time': 1.831636905670166},\n",
        "{'initial_state': [[1, 2, 3], [4, 0, 6], [7, 5, 8]], 'algorithm': 'breadth_first_search', 'num_explorations': 3, 'path_length': 2, 'execution_time': 0.0},\n",
        "{'initial_state': [[1, 2, 3], [0, 4, 6], [7, 5, 8]], 'algorithm': 'breadth_first_search', 'num_explorations': 8, 'path_length': 3, 'execution_time': 0.0},\n",
        "{'initial_state': [[1, 2, 3], [4, 6, 0], [7, 5, 8]], 'algorithm': 'breadth_first_search', 'num_explorations': 8, 'path_length': 3, 'execution_time': 0.0},\n",
        "{'initial_state': [[1, 3, 6], [4, 2, 5], [7, 0, 8]], 'algorithm': 'breadth_first_search', 'num_explorations': 20000, 'path_length': -1, 'execution_time': 36.05873966217041},\n",
        "{'initial_state': [[1, 3, 6], [4, 2, 0], [7, 5, 8]], 'algorithm': 'breadth_first_search', 'num_explorations': 20, 'path_length': 5, 'execution_time': 0.0},\n",
        "{'initial_state': [[1, 3, 6], [4, 0, 2], [7, 5, 8]], 'algorithm': 'breadth_first_search', 'num_explorations': 62, 'path_length': 6, 'execution_time': 0.0019948482513427734},\n",
        "{'initial_state': [[3, 1, 2], [4, 6, 5], [7, 0, 8]], 'algorithm': 'breadth_first_search', 'num_explorations': 20000, 'path_length': -1, 'execution_time': 40.92391228675842},\n",
        "{'initial_state': [[8, 1, 2], [0, 4, 3], [7, 6, 5]], 'algorithm': 'breadth_first_search', 'num_explorations': 20000, 'path_length': -1, 'execution_time': 40.67150044441223},\n",
        "{'initial_state': [[1, 4, 2], [7, 0, 6], [5, 3, 8]], 'algorithm': 'breadth_first_search', 'num_explorations': 3321, 'path_length': 14, 'execution_time': 0.8201050758361816},\n",
        "{'initial_state': [[2, 8, 3], [1, 6, 4], [7, 0, 5]], 'algorithm': 'breadth_first_search', 'num_explorations': 20000, 'path_length': -1, 'execution_time': 42.47766828536987}\n",
        "]\n",
        "results_DFS = [\n",
        "{'initial_state': [[1, 2, 3], [4, 5, 0], [6, 7, 8]], 'algorithm': 'depth_first_search', 'num_explorations': 20000, 'path_length': -1, 'execution_time': 69.51113247871399},\n",
        "{'initial_state': [[1, 2, 3], [0, 5, 6], [4, 7, 8]], 'algorithm': 'depth_first_search', 'num_explorations': 27, 'path_length': 27, 'execution_time': 0.0},\n",
        "{'initial_state': [[1, 0, 3], [4, 2, 5], [7, 8, 6]], 'algorithm': 'depth_first_search', 'num_explorations': 20000, 'path_length': -1, 'execution_time': 60.40420460700989},\n",
        "{'initial_state': [[1, 0, 3], [4, 5, 2], [7, 6, 8]], 'algorithm': 'depth_first_search', 'num_explorations': 20000, 'path_length': -1, 'execution_time': 62.47419261932373},\n",
        "{'initial_state': [[1, 0, 3], [4, 2, 5], [6, 7, 8]], 'algorithm': 'depth_first_search', 'num_explorations': 20000, 'path_length': -1, 'execution_time': 67.59605073928833},\n",
        "{'initial_state': [[1, 2, 3], [4, 0, 6], [7, 5, 8]], 'algorithm': 'depth_first_search', 'num_explorations': 412, 'path_length': 406, 'execution_time': 0.02211737632751465},\n",
        "{'initial_state': [[1, 2, 3], [0, 4, 6], [7, 5, 8]], 'algorithm': 'depth_first_search', 'num_explorations': 20000, 'path_length': -1, 'execution_time': 65.1717848777771},\n",
        "{'initial_state': [[1, 2, 3], [4, 6, 0], [7, 5, 8]], 'algorithm': 'depth_first_search', 'num_explorations': 886, 'path_length': 871, 'execution_time': 0.08270859718322754},\n",
        "{'initial_state': [[1, 3, 6], [4, 2, 5], [7, 0, 8]], 'algorithm': 'depth_first_search', 'num_explorations': 20000, 'path_length': -1, 'execution_time': 66.5749568939209},\n",
        "{'initial_state': [[1, 3, 6], [4, 2, 0], [7, 5, 8]], 'algorithm': 'depth_first_search', 'num_explorations': 20000, 'path_length': -1, 'execution_time': 65.61762142181396},\n",
        "{'initial_state': [[1, 3, 6], [4, 0, 2], [7, 5, 8]], 'algorithm': 'depth_first_search', 'num_explorations': 20000, 'path_length': -1, 'execution_time': 66.86844420433044},\n",
        "{'initial_state': [[3, 1, 2], [4, 6, 5], [7, 0, 8]], 'algorithm': 'depth_first_search', 'num_explorations': 20000, 'path_length': -1, 'execution_time': 80.54781603813171},\n",
        "{'initial_state': [[8, 1, 2], [0, 4, 3], [7, 6, 5]], 'algorithm': 'depth_first_search', 'num_explorations': 20000, 'path_length': -1, 'execution_time': 75.41818499565125},\n",
        "{'initial_state': [[1, 4, 2], [7, 0, 6], [5, 3, 8]], 'algorithm': 'depth_first_search', 'num_explorations': 20000, 'path_length': -1, 'execution_time': 69.51109766960144},\n",
        "{'initial_state': [[2, 8, 3], [1, 6, 4], [7, 0, 5]], 'algorithm': 'depth_first_search', 'num_explorations': 20000, 'path_length': -1, 'execution_time': 83.47795271873474}\n",
        "]"
      ],
      "metadata": {
        "id": "Of9AZvcz8Irk"
      },
      "id": "Of9AZvcz8Irk",
      "execution_count": null,
      "outputs": []
    },
    {
      "cell_type": "markdown",
      "source": [
        "### **Exercice 7**\n",
        "Utilisez (et adaptez si nécessaire) votre fonction compare_algorithms du premier TP pour résoudre tous les jeux avec les deux versions de l'algorithme A etoile."
      ],
      "metadata": {
        "id": "Au6p2iO57EXJ"
      },
      "id": "Au6p2iO57EXJ"
    },
    {
      "cell_type": "code",
      "source": [
        "import time\n",
        "\n",
        "def compare_algorithms(initial_states, goal_state, heuristics, max_it):\n",
        "    results = [[] for _ in range(len(heuristics))]\n",
        "    for initial_state in initial_states:\n",
        "        print('Solving state')\n",
        "        visualize_state(initial_state)\n",
        "        problem = Taquin(initial_state, goal_state, len(initial_state[0]))\n",
        "        for k in range(len(heuristics)):\n",
        "            heuristic = heuristics[k]\n",
        "            print('Running A* with', heuristic.__name__)\n",
        "            start_time = time.time()\n",
        "            solution_node, num_explorations = a_etoile(problem,heuristic,max_it)\n",
        "            end_time = time.time()\n",
        "            execution_time = end_time - start_time\n",
        "\n",
        "            if solution_node:\n",
        "                path_length = len(solution_node.solution())\n",
        "            else:\n",
        "                path_length = -1  # Indicate no solution found\n",
        "\n",
        "            results[k].append({\n",
        "                \"initial_state\": initial_state,\n",
        "                \"algorithm\": heuristic.__name__,  # Get the name of the function\n",
        "                \"num_explorations\": num_explorations,\n",
        "                \"path_length\": path_length,\n",
        "                \"execution_time\": execution_time\n",
        "            })\n",
        "    return results"
      ],
      "metadata": {
        "id": "EqH6plKz1-SZ"
      },
      "id": "EqH6plKz1-SZ",
      "execution_count": null,
      "outputs": []
    },
    {
      "cell_type": "code",
      "source": [
        "goal_state = [[1, 2, 3], [4, 5, 6], [7, 8, 0]]\n",
        "heuristics = [h1, h2]\n",
        "\n",
        "results = compare_algorithms(initial_states, goal_state, heuristics,max_it = 5000)\n",
        "results_misplace = results[0]\n",
        "results_manhattan = results[1]\n",
        "print('Finished !!')"
      ],
      "metadata": {
        "colab": {
          "base_uri": "https://localhost:8080/",
          "height": 1000
        },
        "id": "x8t8veJW7jkT",
        "outputId": "75848e85-12e5-45f4-f219-8270e62f83a1"
      },
      "id": "x8t8veJW7jkT",
      "execution_count": null,
      "outputs": [
        {
          "output_type": "stream",
          "name": "stdout",
          "text": [
            "Solving state\n"
          ]
        },
        {
          "output_type": "display_data",
          "data": {
            "text/plain": [
              "<IPython.core.display.HTML object>"
            ],
            "text/html": [
              "<table><tr><td style='background-color: lightblue; width: 30px; height: 30px; text-align: center; font-size: 20px;'>1</td><td style='background-color: lightblue; width: 30px; height: 30px; text-align: center; font-size: 20px;'>2</td><td style='background-color: lightblue; width: 30px; height: 30px; text-align: center; font-size: 20px;'>3</td></tr><tr><td style='background-color: lightblue; width: 30px; height: 30px; text-align: center; font-size: 20px;'>4</td><td style='background-color: lightblue; width: 30px; height: 30px; text-align: center; font-size: 20px;'>5</td><td style='background-color: lightgray; width: 30px; height: 30px; text-align: center; font-size: 20px;'> </td></tr><tr><td style='background-color: lightblue; width: 30px; height: 30px; text-align: center; font-size: 20px;'>6</td><td style='background-color: lightblue; width: 30px; height: 30px; text-align: center; font-size: 20px;'>7</td><td style='background-color: lightblue; width: 30px; height: 30px; text-align: center; font-size: 20px;'>8</td></tr></table>"
            ]
          },
          "metadata": {}
        },
        {
          "output_type": "stream",
          "name": "stdout",
          "text": [
            "Running A* with h1\n",
            "Running A* with h2\n",
            "Solving state\n"
          ]
        },
        {
          "output_type": "display_data",
          "data": {
            "text/plain": [
              "<IPython.core.display.HTML object>"
            ],
            "text/html": [
              "<table><tr><td style='background-color: lightblue; width: 30px; height: 30px; text-align: center; font-size: 20px;'>1</td><td style='background-color: lightblue; width: 30px; height: 30px; text-align: center; font-size: 20px;'>2</td><td style='background-color: lightblue; width: 30px; height: 30px; text-align: center; font-size: 20px;'>3</td></tr><tr><td style='background-color: lightgray; width: 30px; height: 30px; text-align: center; font-size: 20px;'> </td><td style='background-color: lightblue; width: 30px; height: 30px; text-align: center; font-size: 20px;'>5</td><td style='background-color: lightblue; width: 30px; height: 30px; text-align: center; font-size: 20px;'>6</td></tr><tr><td style='background-color: lightblue; width: 30px; height: 30px; text-align: center; font-size: 20px;'>4</td><td style='background-color: lightblue; width: 30px; height: 30px; text-align: center; font-size: 20px;'>7</td><td style='background-color: lightblue; width: 30px; height: 30px; text-align: center; font-size: 20px;'>8</td></tr></table>"
            ]
          },
          "metadata": {}
        },
        {
          "output_type": "stream",
          "name": "stdout",
          "text": [
            "Running A* with h1\n",
            "Running A* with h2\n",
            "Solving state\n"
          ]
        },
        {
          "output_type": "display_data",
          "data": {
            "text/plain": [
              "<IPython.core.display.HTML object>"
            ],
            "text/html": [
              "<table><tr><td style='background-color: lightblue; width: 30px; height: 30px; text-align: center; font-size: 20px;'>1</td><td style='background-color: lightgray; width: 30px; height: 30px; text-align: center; font-size: 20px;'> </td><td style='background-color: lightblue; width: 30px; height: 30px; text-align: center; font-size: 20px;'>3</td></tr><tr><td style='background-color: lightblue; width: 30px; height: 30px; text-align: center; font-size: 20px;'>4</td><td style='background-color: lightblue; width: 30px; height: 30px; text-align: center; font-size: 20px;'>2</td><td style='background-color: lightblue; width: 30px; height: 30px; text-align: center; font-size: 20px;'>5</td></tr><tr><td style='background-color: lightblue; width: 30px; height: 30px; text-align: center; font-size: 20px;'>7</td><td style='background-color: lightblue; width: 30px; height: 30px; text-align: center; font-size: 20px;'>8</td><td style='background-color: lightblue; width: 30px; height: 30px; text-align: center; font-size: 20px;'>6</td></tr></table>"
            ]
          },
          "metadata": {}
        },
        {
          "output_type": "stream",
          "name": "stdout",
          "text": [
            "Running A* with h1\n",
            "Running A* with h2\n",
            "Solving state\n"
          ]
        },
        {
          "output_type": "display_data",
          "data": {
            "text/plain": [
              "<IPython.core.display.HTML object>"
            ],
            "text/html": [
              "<table><tr><td style='background-color: lightblue; width: 30px; height: 30px; text-align: center; font-size: 20px;'>1</td><td style='background-color: lightgray; width: 30px; height: 30px; text-align: center; font-size: 20px;'> </td><td style='background-color: lightblue; width: 30px; height: 30px; text-align: center; font-size: 20px;'>3</td></tr><tr><td style='background-color: lightblue; width: 30px; height: 30px; text-align: center; font-size: 20px;'>4</td><td style='background-color: lightblue; width: 30px; height: 30px; text-align: center; font-size: 20px;'>5</td><td style='background-color: lightblue; width: 30px; height: 30px; text-align: center; font-size: 20px;'>2</td></tr><tr><td style='background-color: lightblue; width: 30px; height: 30px; text-align: center; font-size: 20px;'>7</td><td style='background-color: lightblue; width: 30px; height: 30px; text-align: center; font-size: 20px;'>6</td><td style='background-color: lightblue; width: 30px; height: 30px; text-align: center; font-size: 20px;'>8</td></tr></table>"
            ]
          },
          "metadata": {}
        },
        {
          "output_type": "stream",
          "name": "stdout",
          "text": [
            "Running A* with h1\n",
            "Running A* with h2\n",
            "Solving state\n"
          ]
        },
        {
          "output_type": "display_data",
          "data": {
            "text/plain": [
              "<IPython.core.display.HTML object>"
            ],
            "text/html": [
              "<table><tr><td style='background-color: lightblue; width: 30px; height: 30px; text-align: center; font-size: 20px;'>1</td><td style='background-color: lightgray; width: 30px; height: 30px; text-align: center; font-size: 20px;'> </td><td style='background-color: lightblue; width: 30px; height: 30px; text-align: center; font-size: 20px;'>3</td></tr><tr><td style='background-color: lightblue; width: 30px; height: 30px; text-align: center; font-size: 20px;'>4</td><td style='background-color: lightblue; width: 30px; height: 30px; text-align: center; font-size: 20px;'>2</td><td style='background-color: lightblue; width: 30px; height: 30px; text-align: center; font-size: 20px;'>5</td></tr><tr><td style='background-color: lightblue; width: 30px; height: 30px; text-align: center; font-size: 20px;'>6</td><td style='background-color: lightblue; width: 30px; height: 30px; text-align: center; font-size: 20px;'>7</td><td style='background-color: lightblue; width: 30px; height: 30px; text-align: center; font-size: 20px;'>8</td></tr></table>"
            ]
          },
          "metadata": {}
        },
        {
          "output_type": "stream",
          "name": "stdout",
          "text": [
            "Running A* with h1\n",
            "Running A* with h2\n",
            "Solving state\n"
          ]
        },
        {
          "output_type": "display_data",
          "data": {
            "text/plain": [
              "<IPython.core.display.HTML object>"
            ],
            "text/html": [
              "<table><tr><td style='background-color: lightblue; width: 30px; height: 30px; text-align: center; font-size: 20px;'>1</td><td style='background-color: lightblue; width: 30px; height: 30px; text-align: center; font-size: 20px;'>2</td><td style='background-color: lightblue; width: 30px; height: 30px; text-align: center; font-size: 20px;'>3</td></tr><tr><td style='background-color: lightblue; width: 30px; height: 30px; text-align: center; font-size: 20px;'>4</td><td style='background-color: lightgray; width: 30px; height: 30px; text-align: center; font-size: 20px;'> </td><td style='background-color: lightblue; width: 30px; height: 30px; text-align: center; font-size: 20px;'>6</td></tr><tr><td style='background-color: lightblue; width: 30px; height: 30px; text-align: center; font-size: 20px;'>7</td><td style='background-color: lightblue; width: 30px; height: 30px; text-align: center; font-size: 20px;'>5</td><td style='background-color: lightblue; width: 30px; height: 30px; text-align: center; font-size: 20px;'>8</td></tr></table>"
            ]
          },
          "metadata": {}
        },
        {
          "output_type": "stream",
          "name": "stdout",
          "text": [
            "Running A* with h1\n",
            "Running A* with h2\n",
            "Solving state\n"
          ]
        },
        {
          "output_type": "display_data",
          "data": {
            "text/plain": [
              "<IPython.core.display.HTML object>"
            ],
            "text/html": [
              "<table><tr><td style='background-color: lightblue; width: 30px; height: 30px; text-align: center; font-size: 20px;'>1</td><td style='background-color: lightblue; width: 30px; height: 30px; text-align: center; font-size: 20px;'>2</td><td style='background-color: lightblue; width: 30px; height: 30px; text-align: center; font-size: 20px;'>3</td></tr><tr><td style='background-color: lightgray; width: 30px; height: 30px; text-align: center; font-size: 20px;'> </td><td style='background-color: lightblue; width: 30px; height: 30px; text-align: center; font-size: 20px;'>4</td><td style='background-color: lightblue; width: 30px; height: 30px; text-align: center; font-size: 20px;'>6</td></tr><tr><td style='background-color: lightblue; width: 30px; height: 30px; text-align: center; font-size: 20px;'>7</td><td style='background-color: lightblue; width: 30px; height: 30px; text-align: center; font-size: 20px;'>5</td><td style='background-color: lightblue; width: 30px; height: 30px; text-align: center; font-size: 20px;'>8</td></tr></table>"
            ]
          },
          "metadata": {}
        },
        {
          "output_type": "stream",
          "name": "stdout",
          "text": [
            "Running A* with h1\n",
            "Running A* with h2\n",
            "Solving state\n"
          ]
        },
        {
          "output_type": "display_data",
          "data": {
            "text/plain": [
              "<IPython.core.display.HTML object>"
            ],
            "text/html": [
              "<table><tr><td style='background-color: lightblue; width: 30px; height: 30px; text-align: center; font-size: 20px;'>1</td><td style='background-color: lightblue; width: 30px; height: 30px; text-align: center; font-size: 20px;'>2</td><td style='background-color: lightblue; width: 30px; height: 30px; text-align: center; font-size: 20px;'>3</td></tr><tr><td style='background-color: lightblue; width: 30px; height: 30px; text-align: center; font-size: 20px;'>4</td><td style='background-color: lightblue; width: 30px; height: 30px; text-align: center; font-size: 20px;'>6</td><td style='background-color: lightgray; width: 30px; height: 30px; text-align: center; font-size: 20px;'> </td></tr><tr><td style='background-color: lightblue; width: 30px; height: 30px; text-align: center; font-size: 20px;'>7</td><td style='background-color: lightblue; width: 30px; height: 30px; text-align: center; font-size: 20px;'>5</td><td style='background-color: lightblue; width: 30px; height: 30px; text-align: center; font-size: 20px;'>8</td></tr></table>"
            ]
          },
          "metadata": {}
        },
        {
          "output_type": "stream",
          "name": "stdout",
          "text": [
            "Running A* with h1\n",
            "Running A* with h2\n",
            "Solving state\n"
          ]
        },
        {
          "output_type": "display_data",
          "data": {
            "text/plain": [
              "<IPython.core.display.HTML object>"
            ],
            "text/html": [
              "<table><tr><td style='background-color: lightblue; width: 30px; height: 30px; text-align: center; font-size: 20px;'>1</td><td style='background-color: lightblue; width: 30px; height: 30px; text-align: center; font-size: 20px;'>3</td><td style='background-color: lightblue; width: 30px; height: 30px; text-align: center; font-size: 20px;'>6</td></tr><tr><td style='background-color: lightblue; width: 30px; height: 30px; text-align: center; font-size: 20px;'>4</td><td style='background-color: lightblue; width: 30px; height: 30px; text-align: center; font-size: 20px;'>2</td><td style='background-color: lightblue; width: 30px; height: 30px; text-align: center; font-size: 20px;'>5</td></tr><tr><td style='background-color: lightblue; width: 30px; height: 30px; text-align: center; font-size: 20px;'>7</td><td style='background-color: lightgray; width: 30px; height: 30px; text-align: center; font-size: 20px;'> </td><td style='background-color: lightblue; width: 30px; height: 30px; text-align: center; font-size: 20px;'>8</td></tr></table>"
            ]
          },
          "metadata": {}
        },
        {
          "output_type": "stream",
          "name": "stdout",
          "text": [
            "Running A* with h1\n",
            "Running A* with h2\n",
            "Solving state\n"
          ]
        },
        {
          "output_type": "display_data",
          "data": {
            "text/plain": [
              "<IPython.core.display.HTML object>"
            ],
            "text/html": [
              "<table><tr><td style='background-color: lightblue; width: 30px; height: 30px; text-align: center; font-size: 20px;'>1</td><td style='background-color: lightblue; width: 30px; height: 30px; text-align: center; font-size: 20px;'>3</td><td style='background-color: lightblue; width: 30px; height: 30px; text-align: center; font-size: 20px;'>6</td></tr><tr><td style='background-color: lightblue; width: 30px; height: 30px; text-align: center; font-size: 20px;'>4</td><td style='background-color: lightblue; width: 30px; height: 30px; text-align: center; font-size: 20px;'>2</td><td style='background-color: lightgray; width: 30px; height: 30px; text-align: center; font-size: 20px;'> </td></tr><tr><td style='background-color: lightblue; width: 30px; height: 30px; text-align: center; font-size: 20px;'>7</td><td style='background-color: lightblue; width: 30px; height: 30px; text-align: center; font-size: 20px;'>5</td><td style='background-color: lightblue; width: 30px; height: 30px; text-align: center; font-size: 20px;'>8</td></tr></table>"
            ]
          },
          "metadata": {}
        },
        {
          "output_type": "stream",
          "name": "stdout",
          "text": [
            "Running A* with h1\n",
            "Running A* with h2\n",
            "Solving state\n"
          ]
        },
        {
          "output_type": "display_data",
          "data": {
            "text/plain": [
              "<IPython.core.display.HTML object>"
            ],
            "text/html": [
              "<table><tr><td style='background-color: lightblue; width: 30px; height: 30px; text-align: center; font-size: 20px;'>1</td><td style='background-color: lightblue; width: 30px; height: 30px; text-align: center; font-size: 20px;'>3</td><td style='background-color: lightblue; width: 30px; height: 30px; text-align: center; font-size: 20px;'>6</td></tr><tr><td style='background-color: lightblue; width: 30px; height: 30px; text-align: center; font-size: 20px;'>4</td><td style='background-color: lightgray; width: 30px; height: 30px; text-align: center; font-size: 20px;'> </td><td style='background-color: lightblue; width: 30px; height: 30px; text-align: center; font-size: 20px;'>2</td></tr><tr><td style='background-color: lightblue; width: 30px; height: 30px; text-align: center; font-size: 20px;'>7</td><td style='background-color: lightblue; width: 30px; height: 30px; text-align: center; font-size: 20px;'>5</td><td style='background-color: lightblue; width: 30px; height: 30px; text-align: center; font-size: 20px;'>8</td></tr></table>"
            ]
          },
          "metadata": {}
        },
        {
          "output_type": "stream",
          "name": "stdout",
          "text": [
            "Running A* with h1\n",
            "Running A* with h2\n",
            "Solving state\n"
          ]
        },
        {
          "output_type": "display_data",
          "data": {
            "text/plain": [
              "<IPython.core.display.HTML object>"
            ],
            "text/html": [
              "<table><tr><td style='background-color: lightblue; width: 30px; height: 30px; text-align: center; font-size: 20px;'>3</td><td style='background-color: lightblue; width: 30px; height: 30px; text-align: center; font-size: 20px;'>1</td><td style='background-color: lightblue; width: 30px; height: 30px; text-align: center; font-size: 20px;'>2</td></tr><tr><td style='background-color: lightblue; width: 30px; height: 30px; text-align: center; font-size: 20px;'>4</td><td style='background-color: lightblue; width: 30px; height: 30px; text-align: center; font-size: 20px;'>6</td><td style='background-color: lightblue; width: 30px; height: 30px; text-align: center; font-size: 20px;'>5</td></tr><tr><td style='background-color: lightblue; width: 30px; height: 30px; text-align: center; font-size: 20px;'>7</td><td style='background-color: lightgray; width: 30px; height: 30px; text-align: center; font-size: 20px;'> </td><td style='background-color: lightblue; width: 30px; height: 30px; text-align: center; font-size: 20px;'>8</td></tr></table>"
            ]
          },
          "metadata": {}
        },
        {
          "output_type": "stream",
          "name": "stdout",
          "text": [
            "Running A* with h1\n",
            "Running A* with h2\n",
            "Solving state\n"
          ]
        },
        {
          "output_type": "display_data",
          "data": {
            "text/plain": [
              "<IPython.core.display.HTML object>"
            ],
            "text/html": [
              "<table><tr><td style='background-color: lightblue; width: 30px; height: 30px; text-align: center; font-size: 20px;'>8</td><td style='background-color: lightblue; width: 30px; height: 30px; text-align: center; font-size: 20px;'>1</td><td style='background-color: lightblue; width: 30px; height: 30px; text-align: center; font-size: 20px;'>2</td></tr><tr><td style='background-color: lightgray; width: 30px; height: 30px; text-align: center; font-size: 20px;'> </td><td style='background-color: lightblue; width: 30px; height: 30px; text-align: center; font-size: 20px;'>4</td><td style='background-color: lightblue; width: 30px; height: 30px; text-align: center; font-size: 20px;'>3</td></tr><tr><td style='background-color: lightblue; width: 30px; height: 30px; text-align: center; font-size: 20px;'>7</td><td style='background-color: lightblue; width: 30px; height: 30px; text-align: center; font-size: 20px;'>6</td><td style='background-color: lightblue; width: 30px; height: 30px; text-align: center; font-size: 20px;'>5</td></tr></table>"
            ]
          },
          "metadata": {}
        },
        {
          "output_type": "stream",
          "name": "stdout",
          "text": [
            "Running A* with h1\n",
            "Running A* with h2\n",
            "Solving state\n"
          ]
        },
        {
          "output_type": "display_data",
          "data": {
            "text/plain": [
              "<IPython.core.display.HTML object>"
            ],
            "text/html": [
              "<table><tr><td style='background-color: lightblue; width: 30px; height: 30px; text-align: center; font-size: 20px;'>1</td><td style='background-color: lightblue; width: 30px; height: 30px; text-align: center; font-size: 20px;'>4</td><td style='background-color: lightblue; width: 30px; height: 30px; text-align: center; font-size: 20px;'>2</td></tr><tr><td style='background-color: lightblue; width: 30px; height: 30px; text-align: center; font-size: 20px;'>7</td><td style='background-color: lightgray; width: 30px; height: 30px; text-align: center; font-size: 20px;'> </td><td style='background-color: lightblue; width: 30px; height: 30px; text-align: center; font-size: 20px;'>6</td></tr><tr><td style='background-color: lightblue; width: 30px; height: 30px; text-align: center; font-size: 20px;'>5</td><td style='background-color: lightblue; width: 30px; height: 30px; text-align: center; font-size: 20px;'>3</td><td style='background-color: lightblue; width: 30px; height: 30px; text-align: center; font-size: 20px;'>8</td></tr></table>"
            ]
          },
          "metadata": {}
        },
        {
          "output_type": "stream",
          "name": "stdout",
          "text": [
            "Running A* with h1\n",
            "Running A* with h2\n",
            "Solving state\n"
          ]
        },
        {
          "output_type": "display_data",
          "data": {
            "text/plain": [
              "<IPython.core.display.HTML object>"
            ],
            "text/html": [
              "<table><tr><td style='background-color: lightblue; width: 30px; height: 30px; text-align: center; font-size: 20px;'>2</td><td style='background-color: lightblue; width: 30px; height: 30px; text-align: center; font-size: 20px;'>8</td><td style='background-color: lightblue; width: 30px; height: 30px; text-align: center; font-size: 20px;'>3</td></tr><tr><td style='background-color: lightblue; width: 30px; height: 30px; text-align: center; font-size: 20px;'>1</td><td style='background-color: lightblue; width: 30px; height: 30px; text-align: center; font-size: 20px;'>6</td><td style='background-color: lightblue; width: 30px; height: 30px; text-align: center; font-size: 20px;'>4</td></tr><tr><td style='background-color: lightblue; width: 30px; height: 30px; text-align: center; font-size: 20px;'>7</td><td style='background-color: lightgray; width: 30px; height: 30px; text-align: center; font-size: 20px;'> </td><td style='background-color: lightblue; width: 30px; height: 30px; text-align: center; font-size: 20px;'>5</td></tr></table>"
            ]
          },
          "metadata": {}
        },
        {
          "output_type": "stream",
          "name": "stdout",
          "text": [
            "Running A* with h1\n",
            "Running A* with h2\n",
            "Finished !!\n"
          ]
        }
      ]
    },
    {
      "cell_type": "markdown",
      "source": [
        "#### **Utilisez le code ci-dessous pour visualiser vos résultats et commentez**"
      ],
      "metadata": {
        "id": "lsdWEduU9URp"
      },
      "id": "lsdWEduU9URp"
    },
    {
      "cell_type": "code",
      "source": [
        "import pandas as pd\n",
        "import numpy as np\n",
        "from tabulate import tabulate ## La librairie Tabulate doit être installée. Si vous ne l'avez pas, vous pouvez simplement utiliser \"print(df)\" pour visualiser le tableau.\n",
        "\n",
        "Data = []\n",
        "for i in range(len(initial_states)):\n",
        "    Data.append([int(i+1),\n",
        "                 results_BFS[i]['num_explorations'], results_DFS[i]['num_explorations'], results_misplace[i]['num_explorations'], results_manhattan[i]['num_explorations'],\n",
        "                 results_BFS[i]['path_length'], results_DFS[i]['path_length'], results_misplace[i]['path_length'], results_manhattan[i]['path_length'],\n",
        "                 round(results_BFS[i]['execution_time'],2), round(results_DFS[i]['execution_time'],2), round(results_misplace[i]['execution_time'],2), round(results_manhattan[i]['execution_time'],2)])\n",
        "\n",
        "df = pd.DataFrame(Data, columns=[\"State\", \"Nodes explored BFS\", \"Nodes explored DFS\", \"Nodes explored A*H1\", \"Nodes explored A*H2\",\n",
        "                                 \"Path length BFS\", \"Path length DFS\", \"Path length A*H1\", \"Path length A*H2\",\n",
        "                                 \"Execution Time BFS\", \"Execution Time DFS\",\"Execution Time A*H1\", \"Execution Time A*H2\"])\n",
        "print(tabulate(df, headers='keys', tablefmt='pretty'))"
      ],
      "metadata": {
        "id": "qLJbeGuJ9cJT",
        "colab": {
          "base_uri": "https://localhost:8080/"
        },
        "outputId": "f3901a2f-15ac-4209-a5f4-4e1ac2c67a59"
      },
      "id": "qLJbeGuJ9cJT",
      "execution_count": null,
      "outputs": [
        {
          "output_type": "stream",
          "name": "stdout",
          "text": [
            "+----+-------+--------------------+--------------------+---------------------+---------------------+-----------------+-----------------+------------------+------------------+--------------------+--------------------+---------------------+---------------------+\n",
            "|    | State | Nodes explored BFS | Nodes explored DFS | Nodes explored A*H1 | Nodes explored A*H2 | Path length BFS | Path length DFS | Path length A*H1 | Path length A*H2 | Execution Time BFS | Execution Time DFS | Execution Time A*H1 | Execution Time A*H2 |\n",
            "+----+-------+--------------------+--------------------+---------------------+---------------------+-----------------+-----------------+------------------+------------------+--------------------+--------------------+---------------------+---------------------+\n",
            "| 0  |  1.0  |       1846.0       |      20000.0       |        196.0        |        85.0         |      13.0       |      -1.0       |       13.0       |       13.0       |        0.28        |       69.51        |        0.01         |         0.0         |\n",
            "| 1  |  2.0  |        6.0         |        27.0        |         4.0         |         4.0         |       3.0       |      27.0       |       3.0        |       3.0        |        0.0         |        0.0         |         0.0         |         0.0         |\n",
            "| 2  |  3.0  |        7.0         |      20000.0       |         4.0         |         4.0         |       3.0       |      -1.0       |       3.0        |       3.0        |        0.0         |        60.4        |         0.0         |         0.0         |\n",
            "| 3  |  4.0  |      10911.0       |      20000.0       |       1316.0        |        454.0        |      17.0       |      -1.0       |       17.0       |       17.0       |        8.98        |       62.47        |        0.23         |        0.04         |\n",
            "| 4  |  5.0  |       4960.0       |      20000.0       |        484.0        |        162.0        |      15.0       |      -1.0       |       15.0       |       15.0       |        1.83        |        67.6        |        0.03         |        0.01         |\n",
            "| 5  |  6.0  |        3.0         |       412.0        |         3.0         |         3.0         |       2.0       |      406.0      |       2.0        |       2.0        |        0.0         |        0.02        |         0.0         |         0.0         |\n",
            "| 6  |  7.0  |        8.0         |      20000.0       |         4.0         |         4.0         |       3.0       |      -1.0       |       3.0        |       3.0        |        0.0         |       65.17        |         0.0         |         0.0         |\n",
            "| 7  |  8.0  |        8.0         |       886.0        |         4.0         |         4.0         |       3.0       |      871.0      |       3.0        |       3.0        |        0.0         |        0.08        |         0.0         |         0.0         |\n",
            "| 8  |  9.0  |      20000.0       |      20000.0       |       5000.0        |       5000.0        |      -1.0       |      -1.0       |       -1.0       |       -1.0       |       36.06        |       66.57        |         2.7         |        2.74         |\n",
            "| 9  | 10.0  |        20.0        |      20000.0       |         6.0         |         6.0         |       5.0       |      -1.0       |       5.0        |       5.0        |        0.0         |       65.62        |         0.0         |         0.0         |\n",
            "| 10 | 11.0  |        62.0        |      20000.0       |        13.0         |         9.0         |       6.0       |      -1.0       |       6.0        |       6.0        |        0.0         |       66.87        |         0.0         |         0.0         |\n",
            "| 11 | 12.0  |      20000.0       |      20000.0       |       5000.0        |       5000.0        |      -1.0       |      -1.0       |       -1.0       |       -1.0       |       40.92        |       80.55        |        3.62         |        2.68         |\n",
            "| 12 | 13.0  |      20000.0       |      20000.0       |       5000.0        |       5000.0        |      -1.0       |      -1.0       |       -1.0       |       -1.0       |       40.67        |       75.42        |        2.72         |         2.7         |\n",
            "| 13 | 14.0  |       3321.0       |      20000.0       |        316.0        |        93.0         |      14.0       |      -1.0       |       14.0       |       14.0       |        0.82        |       69.51        |        0.01         |         0.0         |\n",
            "| 14 | 15.0  |      20000.0       |      20000.0       |       5000.0        |       5000.0        |      -1.0       |      -1.0       |       -1.0       |       -1.0       |       42.48        |       83.48        |        3.88         |        2.74         |\n",
            "+----+-------+--------------------+--------------------+---------------------+---------------------+-----------------+-----------------+------------------+------------------+--------------------+--------------------+---------------------+---------------------+\n"
          ]
        }
      ]
    }
  ],
  "metadata": {
    "kernelspec": {
      "display_name": "Python 3 (ipykernel)",
      "language": "python",
      "name": "python3"
    },
    "language_info": {
      "codemirror_mode": {
        "name": "ipython",
        "version": 3
      },
      "file_extension": ".py",
      "mimetype": "text/x-python",
      "name": "python",
      "nbconvert_exporter": "python",
      "pygments_lexer": "ipython3",
      "version": "3.11.9"
    },
    "colab": {
      "provenance": [],
      "collapsed_sections": [
        "890fa479-1023-487c-a76c-ff6d76db2965"
      ]
    }
  },
  "nbformat": 4,
  "nbformat_minor": 5
}